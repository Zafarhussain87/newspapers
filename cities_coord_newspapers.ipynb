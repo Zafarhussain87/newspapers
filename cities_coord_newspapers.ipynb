{
 "cells": [
  {
   "cell_type": "code",
   "execution_count": 2,
   "metadata": {},
   "outputs": [],
   "source": [
    "import urllib.request, json \n",
    "from time import sleep\n",
    "import time\n",
    "import re\n",
    "import nltk\n",
    "from nltk.corpus import wordnet as wn\n",
    "from nltk.stem.wordnet import WordNetLemmatizer\n",
    "from nltk.corpus import stopwords\n",
    "from nltk.tokenize import word_tokenize\n",
    "import pandas as pd\n",
    "import matplotlib.pyplot as plt \n",
    "import urllib.parse\n",
    "def warn(*args, **kwargs):\n",
    "    pass\n",
    "import warnings\n",
    "warnings.warn = warn\n",
    "pd.options.mode.chained_assignment = None"
   ]
  },
  {
   "cell_type": "code",
   "execution_count": 3,
   "metadata": {},
   "outputs": [],
   "source": [
    "newspapers_ids_bn = pd.read_csv('bln-newspapers-ids.csv')\n",
    "newspaper_loc_bn = pd.read_csv('bln-places.csv')"
   ]
  },
  {
   "cell_type": "code",
   "execution_count": 76,
   "metadata": {},
   "outputs": [],
   "source": [
    "for d in range(0, 1):\n",
    "    filename =  '1900'\n",
    "    level = \"ARTICLE\"\n",
    "    date = \"[18910000 TO 19000000]\"\n",
    "    art_type = \"News\"\n",
    "    offset = \"0\"\n",
    "    limit = \"-1\"\n",
    "    word= \"pills\"\n",
    "    query = \"<\"+level+\"§articleType:\\\"\"+art_type+\"\\\" AND dateStart:\"+date+ \" AND \" +word+\"§\"+level+\">\"\n",
    "    query = urllib.parse.quote(query)\n",
    "    url = \"https://vm0824.kaj.pouta.csc.fi/octavo/bln1800/queryStats?query=\"\n",
    "    url += query\n",
    "    url+= \"&field=newspaperID&maxDocs=-1\"\n",
    "    time.sleep(5)\n",
    "    with urllib.request.urlopen(url) as url:\n",
    "        data = json.loads(url.read().decode())\n",
    "    time.sleep(5)\n",
    "    total_papers = len(data['results']['grouped'])\n",
    "\n",
    "    new_retrieve_data = []\n",
    "\n",
    "    for k in range(total_papers):\n",
    "        paper_name = []\n",
    "        paper_city = []\n",
    "        newspaper_id = data['results']['grouped'][k]['fields']['newspaperID']\n",
    "        total_term_freq = data['results']['grouped'][k]['stats']\n",
    "        word_pills_freq= total_term_freq['totalTermFreq'] - total_term_freq['docFreq'] - total_term_freq['docFreq']\n",
    "        word_pills_ratio = round(word_pills_freq/total_term_freq['docFreq'], 2)\n",
    "        index_paper_id = newspapers_ids_bn[newspapers_ids_bn['id2s'].str.split(',').apply(lambda numbers: newspaper_id in numbers)]\n",
    "        paper_name_index = index_paper_id['newspaper'].values\n",
    "        for jj in range(0, len(paper_name_index)):\n",
    "            paper_name.append(paper_name_index[jj])\n",
    "        for p in paper_name:\n",
    "            index_paper_loc = newspaper_loc_bn[newspaper_loc_bn['Publication Title'] == p]\n",
    "            paper_city_ind = index_paper_loc['City'].values\n",
    "            for ii in range(0, len(paper_city_ind)):\n",
    "                paper_city.append(paper_city_ind[ii])\n",
    "    \n",
    "        new_retrieve_data.append([newspaper_id, paper_name,paper_city,word_pills_freq, word_pills_ratio])\n",
    "    word_freq_loc = pd.DataFrame(new_retrieve_data, columns=['NewspaperID', 'NewspaperName', 'Location', 'WordFreq', 'WordRatio'])\n",
    "    word_freq_loc['Location'] = word_freq_loc.Location.apply(lambda x: ', '.join([str(i) for i in x]))\n",
    "    word_freq_loc['NewspaperName'] = word_freq_loc.NewspaperName.apply(lambda x: ', '.join([str(i) for i in x]))\n",
    "    word_freq_loc.to_pickle('./data_location_news/' +filename + '.pkl')"
   ]
  },
  {
   "cell_type": "code",
   "execution_count": 78,
   "metadata": {},
   "outputs": [],
   "source": [
    "excel_format = pd.read_pickle('./data_location_news/1900.pkl')"
   ]
  },
  {
   "cell_type": "code",
   "execution_count": 80,
   "metadata": {},
   "outputs": [],
   "source": [
    "excel_format.to_excel('data_1900.xls')"
   ]
  },
  {
   "cell_type": "code",
   "execution_count": 364,
   "metadata": {},
   "outputs": [
    {
     "name": "stdout",
     "output_type": "stream",
     "text": [
      "https://vm1973.kaj.pouta.csc.fi/octavo/bln1800/queryStats?query=%3CISSUE%C2%A7dateStart%3A%5B18010101%20TO%2018101231%5D%C2%A7ISSUE%3E&field=length&field=newspaperID&maxDocs=-1\n"
     ]
    }
   ],
   "source": [
    "import urllib.parse\n",
    "level = \"ISSUE\"\n",
    "date = \"[18010101 TO 18101231]\"\n",
    "offset = \"0\"\n",
    "limit = \"-1\"\n",
    "query = \"<\"+level+\"§dateStart:\"+date+ \"§\"+level+\">\"\n",
    "query = urllib.parse.quote(query)\n",
    "#url = \"https://vm0824.kaj.pouta.csc.fi/octavo/bln1800/search??pretty&fieldEnricher=&offsetDataConverter=&query=\"\n",
    "#url = \"https://vm0824.kaj.pouta.csc.fi/octavo/bln1800/queryStats?query=\"\n",
    "url = \"https://vm1973.kaj.pouta.csc.fi/octavo/bln1800/queryStats?query=\"\n",
    "url += query\n",
    "url+= \"&field=length&field=newspaperID&maxDocs=-1\"\n",
    "#url += \"&field=newspaperID&field=ocrConfidence&field=text&field=title&offset=\"+offset\n",
    "#url += \"&limit=\"+limit\n",
    "#url += \"&snippetLimit=0&contextLevel=Sentence&contextExpandLeft=0&contextExpandRight=0&level=&endpoint=https%3A%2F%2Fvm0824.kaj.pouta.csc.fi%2Foctavo%2Fbln1800%2F\"\n",
    "print(url)"
   ]
  },
  {
   "cell_type": "code",
   "execution_count": null,
   "metadata": {},
   "outputs": [],
   "source": [
    "paper_text_length.groupby(['Paper_Id', 'Decade'], as_index=False)[['Text_length']].sum()"
   ]
  },
  {
   "cell_type": "code",
   "execution_count": null,
   "metadata": {},
   "outputs": [],
   "source": [
    "https://vm1973.kaj.pouta.csc.fi/octavo/bln1800"
   ]
  },
  {
   "cell_type": "code",
   "execution_count": null,
   "metadata": {},
   "outputs": [],
   "source": [
    "url = \"https://vm0824.kaj.pouta.csc.fi/octavo/bln1800/queryStats?query=\""
   ]
  },
  {
   "cell_type": "code",
   "execution_count": 276,
   "metadata": {},
   "outputs": [],
   "source": [
    "classified_ads = 'https://vm1973.kaj.pouta.csc.fi/octavo/bln1800/queryStats?query=%3CARTICLE%C2%A7articleType:%22Classified%20ads%22%C2%A7ARTICLE%3E&field=dateStart&fieldLength=4&sumF%20ields=length&maxDocs=-1'"
   ]
  },
  {
   "cell_type": "code",
   "execution_count": 319,
   "metadata": {},
   "outputs": [],
   "source": [
    "issues_text = 'https://vm1973.kaj.pouta.csc.fi/octavo/bln1800/queryStats?query=%3CISSUE%C2%A7%C2%A7ISSUE%3E&field=dateStart&fieldLength=4&sumF%20ields=length&maxDocs=-1'"
   ]
  },
  {
   "cell_type": "code",
   "execution_count": 320,
   "metadata": {},
   "outputs": [],
   "source": [
    "with urllib.request.urlopen(issues_text) as url:\n",
    "    data = json.loads(url.read().decode())"
   ]
  },
  {
   "cell_type": "code",
   "execution_count": 321,
   "metadata": {},
   "outputs": [],
   "source": [
    "total_years = len(data['result']['grouped'])"
   ]
  },
  {
   "cell_type": "code",
   "execution_count": 322,
   "metadata": {},
   "outputs": [],
   "source": [
    "years_text_length = []\n",
    "for y in range(total_years):\n",
    "    year = data['result']['grouped'][y]['fields']['dateStart']\n",
    "    text_length = data['result']['grouped'][y]['stats']['totalTermFreq']\n",
    "    years_text_length.append([year, text_length])\n",
    "    "
   ]
  },
  {
   "cell_type": "code",
   "execution_count": 323,
   "metadata": {},
   "outputs": [],
   "source": [
    "total_text_years = pd.DataFrame(years_text_length, columns=(['Year', 'Text_Length']))"
   ]
  },
  {
   "cell_type": "code",
   "execution_count": 331,
   "metadata": {},
   "outputs": [],
   "source": [
    "classified_ads_text_years = classified_ads_text_years[(classified_ads_text_years['Year']>1800) & (classified_ads_text_years['Year']<1901)]"
   ]
  },
  {
   "cell_type": "code",
   "execution_count": 325,
   "metadata": {},
   "outputs": [],
   "source": [
    "total_text_years.Year = total_text_years.Year.astype(int)"
   ]
  },
  {
   "cell_type": "code",
   "execution_count": null,
   "metadata": {},
   "outputs": [],
   "source": [
    "for i in range(len(total_text_years)):\n",
    "    year = total_text_years['Year']\n",
    "    total_text_length = total_text_years"
   ]
  },
  {
   "cell_type": "code",
   "execution_count": null,
   "metadata": {},
   "outputs": [],
   "source": [
    "classified_ads_text_years = classified_ads_text_years[(classified_ads_text_years['Year'])]"
   ]
  },
  {
   "cell_type": "code",
   "execution_count": 341,
   "metadata": {},
   "outputs": [],
   "source": [
    "text_classified_ratio_years = total_text_years.merge(classified_ads_text_years, how='left', on='Year')\n"
   ]
  },
  {
   "cell_type": "code",
   "execution_count": 346,
   "metadata": {},
   "outputs": [],
   "source": [
    "text_classified_ratio_years.to_csv('Total_text_class_ads_text_comparison.csv', index=False)"
   ]
  },
  {
   "cell_type": "code",
   "execution_count": 344,
   "metadata": {},
   "outputs": [],
   "source": [
    "\n",
    "text_classified_ratio_years = text_classified_ratio_years.rename(columns={'Text_Length_x': 'Total_Text_Length', 'Text_Length_y': 'Class_Ads_Text_Length'})"
   ]
  },
  {
   "cell_type": "code",
   "execution_count": 356,
   "metadata": {},
   "outputs": [],
   "source": [
    "text_classified_ratio_years = text_classified_ratio_years.sort_values('Year', ascending=True)"
   ]
  },
  {
   "cell_type": "code",
   "execution_count": 107,
   "metadata": {},
   "outputs": [],
   "source": [
    "total_text = 'https://vm0824.kaj.pouta.csc.fi/octavo/bln1800/queryStats?query=%3CISSUE%C2%A7dateStart%3A%5B18010101%20TO%2018101231%5D%C2%A7ISSUE%3E&field=newspaperID&fieldLength=10&sumFields=length&maxDocs=-1'"
   ]
  },
  {
   "cell_type": "code",
   "execution_count": 373,
   "metadata": {},
   "outputs": [],
   "source": [
    "ads_text = 'https://vm0824.kaj.pouta.csc.fi/octavo/bln1800/queryStats?query=%3CARTICLE%C2%A7dateStart%3A%5B18010101%20TO%2018101231%5D%20AND%20(articleType%3A%22Classified%20ads%22%20OR%20articeType%3A%22Advertisements%20%26%20Notices%22)%C2%A7ARTICLE%3E&field=newspaperID&fieldLength=10&sumFields=length&maxDocs=-1'"
   ]
  },
  {
   "cell_type": "code",
   "execution_count": 216,
   "metadata": {},
   "outputs": [],
   "source": [
    "ads_text = 'https://vm0824.kaj.pouta.csc.fi/octavo/bln1800/queryStats?query=%3CARTICLE%C2%A7dateStart%3A%5B18910101%20TO%2019001231%5D%20AND%20(articleType%3A%22Classified%20ads%22%20OR%20articeType%3A%22Advertisements%20%26%20Notices%22)%C2%A7ARTICLE%3E&field=newspaperID&fieldLength=10&sumFields=length&maxDocs=-1'\n",
    "with urllib.request.urlopen(ads_text) as url:\n",
    "    data = json.loads(url.read().decode())\n",
    "decade = 10\n",
    "#paper_text_id = []\n",
    "num_papers = len(data['results']['grouped'])\n",
    "for n in range(num_papers):\n",
    "    paper_id = data['results']['grouped'][n]['fields']['newspaperID']\n",
    "    char_lengths = data['results']['grouped'][n]['stats']['length']\n",
    "    paper_text_id.append([decade,paper_id, char_lengths])  "
   ]
  },
  {
   "cell_type": "code",
   "execution_count": 218,
   "metadata": {},
   "outputs": [],
   "source": [
    "\n",
    "papers_text_length = pd.DataFrame(paper_text_id, columns=(['Decade','Paper_ID', 'Ads_Text_Length'])) \n",
    "papers_text_length.to_csv('./classify_ads_text_decades/classify_ads_text_length.csv', index=False) "
   ]
  },
  {
   "cell_type": "code",
   "execution_count": 226,
   "metadata": {},
   "outputs": [],
   "source": [
    "total_text = pd.read_csv('./total_text_decades/total_text_length.csv')"
   ]
  },
  {
   "cell_type": "code",
   "execution_count": 229,
   "metadata": {},
   "outputs": [],
   "source": [
    "ads_text = pd.read_csv('./classify_ads_text_decades/classify_ads_text_length.csv')"
   ]
  },
  {
   "cell_type": "code",
   "execution_count": 243,
   "metadata": {},
   "outputs": [],
   "source": [
    "#total_text['Paper_ID'] = total_text['Paper_ID'].str.replace('\"','')"
   ]
  },
  {
   "cell_type": "code",
   "execution_count": 248,
   "metadata": {},
   "outputs": [],
   "source": [
    "newspapers_ids_bn = pd.read_csv('bln-newspapers-ids.csv')\n",
    "newspaper_loc_bn = pd.read_csv('bln-places.csv')"
   ]
  },
  {
   "cell_type": "code",
   "execution_count": 249,
   "metadata": {},
   "outputs": [
    {
     "data": {
      "text/html": [
       "<div>\n",
       "<style scoped>\n",
       "    .dataframe tbody tr th:only-of-type {\n",
       "        vertical-align: middle;\n",
       "    }\n",
       "\n",
       "    .dataframe tbody tr th {\n",
       "        vertical-align: top;\n",
       "    }\n",
       "\n",
       "    .dataframe thead th {\n",
       "        text-align: right;\n",
       "    }\n",
       "</style>\n",
       "<table border=\"1\" class=\"dataframe\">\n",
       "  <thead>\n",
       "    <tr style=\"text-align: right;\">\n",
       "      <th></th>\n",
       "      <th>Decade</th>\n",
       "      <th>Paper_ID</th>\n",
       "      <th>Text_Length</th>\n",
       "      <th>Ads_Text_Length</th>\n",
       "    </tr>\n",
       "  </thead>\n",
       "  <tbody>\n",
       "    <tr>\n",
       "      <th>0</th>\n",
       "      <td>1</td>\n",
       "      <td>BNCN0071</td>\n",
       "      <td>402423059</td>\n",
       "      <td>224573128</td>\n",
       "    </tr>\n",
       "    <tr>\n",
       "      <th>1</th>\n",
       "      <td>1</td>\n",
       "      <td>NCBL0117</td>\n",
       "      <td>322170564</td>\n",
       "      <td>180073255</td>\n",
       "    </tr>\n",
       "    <tr>\n",
       "      <th>2</th>\n",
       "      <td>1</td>\n",
       "      <td>BNCN0010</td>\n",
       "      <td>191035446</td>\n",
       "      <td>89022047</td>\n",
       "    </tr>\n",
       "    <tr>\n",
       "      <th>3</th>\n",
       "      <td>1</td>\n",
       "      <td>NCBL0130</td>\n",
       "      <td>67295837</td>\n",
       "      <td>33473755</td>\n",
       "    </tr>\n",
       "    <tr>\n",
       "      <th>4</th>\n",
       "      <td>1</td>\n",
       "      <td>BNCN0026</td>\n",
       "      <td>82597939</td>\n",
       "      <td>42258823</td>\n",
       "    </tr>\n",
       "  </tbody>\n",
       "</table>\n",
       "</div>"
      ],
      "text/plain": [
       "   Decade  Paper_ID  Text_Length  Ads_Text_Length\n",
       "0       1  BNCN0071    402423059        224573128\n",
       "1       1  NCBL0117    322170564        180073255\n",
       "2       1  BNCN0010    191035446         89022047\n",
       "3       1  NCBL0130     67295837         33473755\n",
       "4       1  BNCN0026     82597939         42258823"
      ]
     },
     "execution_count": 249,
     "metadata": {},
     "output_type": "execute_result"
    }
   ],
   "source": [
    "final_text_data.head()"
   ]
  },
  {
   "cell_type": "code",
   "execution_count": 275,
   "metadata": {},
   "outputs": [],
   "source": [
    "papers_ids_city = []"
   ]
  },
  {
   "cell_type": "code",
   "execution_count": 276,
   "metadata": {},
   "outputs": [],
   "source": [
    "for newspaper_id in final_text_data['Paper_ID']:\n",
    "        paper_name = []\n",
    "        paper_city = []\n",
    "\n",
    "        index_paper_id = newspapers_ids_bn[newspapers_ids_bn['id2s'].str.split(',').apply(lambda numbers: newspaper_id in numbers)]\n",
    "        paper_name_index = index_paper_id['newspaper'].values\n",
    "        for jj in range(0, len(paper_name_index)):\n",
    "            paper_name.append(paper_name_index[jj])\n",
    "        for p in paper_name:\n",
    "            index_paper_loc = newspaper_loc_bn[newspaper_loc_bn['Publication Title'] == p]\n",
    "            paper_city_ind = index_paper_loc['City'].values\n",
    "            coord = index_paper_loc['Latitude,Longitude'].str.split(',').values\n",
    "            if len(coord)>0:\n",
    "                latitude = coord[0][0]\n",
    "                longitude = coord[0][1]\n",
    "            for ii in range(0, len(paper_city_ind)):\n",
    "                paper_city.append(paper_city_ind[ii])\n",
    "        papers_ids_city.append([newspaper_id, paper_name, paper_city, latitude,longitude ])"
   ]
  },
  {
   "cell_type": "code",
   "execution_count": 279,
   "metadata": {},
   "outputs": [],
   "source": [
    "papers_text_loc_length= pd.DataFrame(papers_ids_city, columns=(['Paper_ID','Paper_Name', 'City', 'Latitude', 'Longitude'])) \n",
    "papers_text_loc_length.to_csv('paper_names_location.csv', index=False) "
   ]
  },
  {
   "cell_type": "code",
   "execution_count": 325,
   "metadata": {},
   "outputs": [],
   "source": [
    "papers_names_loc = pd.read_csv('paper_names_location.csv')"
   ]
  },
  {
   "cell_type": "code",
   "execution_count": 301,
   "metadata": {},
   "outputs": [],
   "source": [
    "papers_names_loc['Paper_Name'] = papers_names_loc.Paper_Name.apply(lambda x: ' '.join([str(i) for i in x]))"
   ]
  },
  {
   "cell_type": "code",
   "execution_count": 324,
   "metadata": {},
   "outputs": [],
   "source": [
    "papers_names_loc.to_csv('paper_names_location.csv', index=False)"
   ]
  },
  {
   "cell_type": "code",
   "execution_count": 321,
   "metadata": {},
   "outputs": [],
   "source": [
    "#papers_names_loc['City'] = papers_names_loc['City'].str.replace('\\'','')"
   ]
  },
  {
   "cell_type": "code",
   "execution_count": 342,
   "metadata": {},
   "outputs": [
    {
     "data": {
      "text/html": [
       "<div>\n",
       "<style scoped>\n",
       "    .dataframe tbody tr th:only-of-type {\n",
       "        vertical-align: middle;\n",
       "    }\n",
       "\n",
       "    .dataframe tbody tr th {\n",
       "        vertical-align: top;\n",
       "    }\n",
       "\n",
       "    .dataframe thead th {\n",
       "        text-align: right;\n",
       "    }\n",
       "</style>\n",
       "<table border=\"1\" class=\"dataframe\">\n",
       "  <thead>\n",
       "    <tr style=\"text-align: right;\">\n",
       "      <th></th>\n",
       "      <th>Paper_ID</th>\n",
       "      <th>Paper_Name</th>\n",
       "      <th>City</th>\n",
       "      <th>Latitude</th>\n",
       "      <th>Longitude</th>\n",
       "    </tr>\n",
       "  </thead>\n",
       "  <tbody>\n",
       "    <tr>\n",
       "      <th>0</th>\n",
       "      <td>BNCN0071</td>\n",
       "      <td>Morning Chronicle</td>\n",
       "      <td>London</td>\n",
       "      <td>51.507351</td>\n",
       "      <td>-0.127758</td>\n",
       "    </tr>\n",
       "    <tr>\n",
       "      <th>1</th>\n",
       "      <td>NCBL0117</td>\n",
       "      <td>Morning Post</td>\n",
       "      <td>London</td>\n",
       "      <td>51.507351</td>\n",
       "      <td>-0.127758</td>\n",
       "    </tr>\n",
       "    <tr>\n",
       "      <th>2</th>\n",
       "      <td>BNCN0010</td>\n",
       "      <td>Caledonian Mercury</td>\n",
       "      <td>Edinburgh</td>\n",
       "      <td>55.953252</td>\n",
       "      <td>-3.188267</td>\n",
       "    </tr>\n",
       "    <tr>\n",
       "      <th>3</th>\n",
       "      <td>NCBL0130</td>\n",
       "      <td>Morning Post</td>\n",
       "      <td>London</td>\n",
       "      <td>51.507351</td>\n",
       "      <td>-0.127758</td>\n",
       "    </tr>\n",
       "    <tr>\n",
       "      <th>4</th>\n",
       "      <td>BNCN0026</td>\n",
       "      <td>Jacksons Oxford Journal</td>\n",
       "      <td>Oxford</td>\n",
       "      <td>51.752021</td>\n",
       "      <td>-1.257726</td>\n",
       "    </tr>\n",
       "  </tbody>\n",
       "</table>\n",
       "</div>"
      ],
      "text/plain": [
       "   Paper_ID               Paper_Name       City   Latitude  Longitude\n",
       "0  BNCN0071        Morning Chronicle     London  51.507351  -0.127758\n",
       "1  NCBL0117             Morning Post     London  51.507351  -0.127758\n",
       "2  BNCN0010       Caledonian Mercury  Edinburgh  55.953252  -3.188267\n",
       "3  NCBL0130             Morning Post     London  51.507351  -0.127758\n",
       "4  BNCN0026  Jacksons Oxford Journal     Oxford  51.752021  -1.257726"
      ]
     },
     "execution_count": 342,
     "metadata": {},
     "output_type": "execute_result"
    }
   ],
   "source": [
    "papers_names_loc.head()"
   ]
  },
  {
   "cell_type": "code",
   "execution_count": 331,
   "metadata": {},
   "outputs": [],
   "source": [
    "papers_text_length = pd.read_csv('final_text_data.csv')"
   ]
  },
  {
   "cell_type": "code",
   "execution_count": 341,
   "metadata": {},
   "outputs": [
    {
     "data": {
      "text/html": [
       "<div>\n",
       "<style scoped>\n",
       "    .dataframe tbody tr th:only-of-type {\n",
       "        vertical-align: middle;\n",
       "    }\n",
       "\n",
       "    .dataframe tbody tr th {\n",
       "        vertical-align: top;\n",
       "    }\n",
       "\n",
       "    .dataframe thead th {\n",
       "        text-align: right;\n",
       "    }\n",
       "</style>\n",
       "<table border=\"1\" class=\"dataframe\">\n",
       "  <thead>\n",
       "    <tr style=\"text-align: right;\">\n",
       "      <th></th>\n",
       "      <th>Decade</th>\n",
       "      <th>Paper_ID</th>\n",
       "      <th>Text_Length</th>\n",
       "      <th>Ads_Text_Length</th>\n",
       "    </tr>\n",
       "  </thead>\n",
       "  <tbody>\n",
       "    <tr>\n",
       "      <th>0</th>\n",
       "      <td>1</td>\n",
       "      <td>BNCN0071</td>\n",
       "      <td>402423059</td>\n",
       "      <td>224573128</td>\n",
       "    </tr>\n",
       "    <tr>\n",
       "      <th>1</th>\n",
       "      <td>1</td>\n",
       "      <td>NCBL0117</td>\n",
       "      <td>322170564</td>\n",
       "      <td>180073255</td>\n",
       "    </tr>\n",
       "    <tr>\n",
       "      <th>2</th>\n",
       "      <td>1</td>\n",
       "      <td>BNCN0010</td>\n",
       "      <td>191035446</td>\n",
       "      <td>89022047</td>\n",
       "    </tr>\n",
       "    <tr>\n",
       "      <th>3</th>\n",
       "      <td>1</td>\n",
       "      <td>NCBL0130</td>\n",
       "      <td>67295837</td>\n",
       "      <td>33473755</td>\n",
       "    </tr>\n",
       "    <tr>\n",
       "      <th>4</th>\n",
       "      <td>1</td>\n",
       "      <td>BNCN0026</td>\n",
       "      <td>82597939</td>\n",
       "      <td>42258823</td>\n",
       "    </tr>\n",
       "  </tbody>\n",
       "</table>\n",
       "</div>"
      ],
      "text/plain": [
       "   Decade  Paper_ID  Text_Length  Ads_Text_Length\n",
       "0       1  BNCN0071    402423059        224573128\n",
       "1       1  NCBL0117    322170564        180073255\n",
       "2       1  BNCN0010    191035446         89022047\n",
       "3       1  NCBL0130     67295837         33473755\n",
       "4       1  BNCN0026     82597939         42258823"
      ]
     },
     "execution_count": 341,
     "metadata": {},
     "output_type": "execute_result"
    }
   ],
   "source": [
    "papers_text_length.head()"
   ]
  },
  {
   "cell_type": "code",
   "execution_count": 343,
   "metadata": {},
   "outputs": [],
   "source": [
    "newspapers_names_text_loc = papers_text_length.merge(papers_names_loc, on='Paper_ID', how='inner')\n",
    "#newspapers_names_text_loc = pd.merge(papers_text_length, papers_names_loc, on='Paper_ID')"
   ]
  },
  {
   "cell_type": "code",
   "execution_count": 350,
   "metadata": {},
   "outputs": [],
   "source": [
    "newspapers_names_text_loc = pd.concat([papers_text_length.set_index('Paper_ID'),papers_names_loc.set_index('Paper_ID')], axis=1, join='inner').reset_index()"
   ]
  },
  {
   "cell_type": "code",
   "execution_count": 365,
   "metadata": {},
   "outputs": [],
   "source": [
    "newspapers_names_text_loc.to_excel('newspapers_names_text_loc.xls', index=False)"
   ]
  },
  {
   "cell_type": "code",
   "execution_count": 364,
   "metadata": {},
   "outputs": [
    {
     "data": {
      "text/html": [
       "<div>\n",
       "<style scoped>\n",
       "    .dataframe tbody tr th:only-of-type {\n",
       "        vertical-align: middle;\n",
       "    }\n",
       "\n",
       "    .dataframe tbody tr th {\n",
       "        vertical-align: top;\n",
       "    }\n",
       "\n",
       "    .dataframe thead th {\n",
       "        text-align: right;\n",
       "    }\n",
       "</style>\n",
       "<table border=\"1\" class=\"dataframe\">\n",
       "  <thead>\n",
       "    <tr style=\"text-align: right;\">\n",
       "      <th></th>\n",
       "      <th>Paper_ID</th>\n",
       "      <th>Decade</th>\n",
       "      <th>Text_Length</th>\n",
       "      <th>Ads_Text_Length</th>\n",
       "      <th>Paper_Name</th>\n",
       "      <th>City</th>\n",
       "      <th>Latitude</th>\n",
       "      <th>Longitude</th>\n",
       "      <th>Ratio</th>\n",
       "    </tr>\n",
       "  </thead>\n",
       "  <tbody>\n",
       "    <tr>\n",
       "      <th>0</th>\n",
       "      <td>BNCN0071</td>\n",
       "      <td>1</td>\n",
       "      <td>402423059</td>\n",
       "      <td>224573128</td>\n",
       "      <td>Morning Chronicle</td>\n",
       "      <td>London</td>\n",
       "      <td>51.507351</td>\n",
       "      <td>-0.127758</td>\n",
       "      <td>0.558052</td>\n",
       "    </tr>\n",
       "    <tr>\n",
       "      <th>1</th>\n",
       "      <td>NCBL0117</td>\n",
       "      <td>1</td>\n",
       "      <td>322170564</td>\n",
       "      <td>180073255</td>\n",
       "      <td>Morning Post</td>\n",
       "      <td>London</td>\n",
       "      <td>51.507351</td>\n",
       "      <td>-0.127758</td>\n",
       "      <td>0.558938</td>\n",
       "    </tr>\n",
       "    <tr>\n",
       "      <th>2</th>\n",
       "      <td>BNCN0010</td>\n",
       "      <td>1</td>\n",
       "      <td>191035446</td>\n",
       "      <td>89022047</td>\n",
       "      <td>Caledonian Mercury</td>\n",
       "      <td>Edinburgh</td>\n",
       "      <td>55.953252</td>\n",
       "      <td>-3.188267</td>\n",
       "      <td>0.465998</td>\n",
       "    </tr>\n",
       "    <tr>\n",
       "      <th>3</th>\n",
       "      <td>NCBL0130</td>\n",
       "      <td>1</td>\n",
       "      <td>67295837</td>\n",
       "      <td>33473755</td>\n",
       "      <td>Morning Post</td>\n",
       "      <td>London</td>\n",
       "      <td>51.507351</td>\n",
       "      <td>-0.127758</td>\n",
       "      <td>0.497412</td>\n",
       "    </tr>\n",
       "    <tr>\n",
       "      <th>4</th>\n",
       "      <td>BNCN0026</td>\n",
       "      <td>1</td>\n",
       "      <td>82597939</td>\n",
       "      <td>42258823</td>\n",
       "      <td>Jacksons Oxford Journal</td>\n",
       "      <td>Oxford</td>\n",
       "      <td>51.752021</td>\n",
       "      <td>-1.257726</td>\n",
       "      <td>0.511621</td>\n",
       "    </tr>\n",
       "  </tbody>\n",
       "</table>\n",
       "</div>"
      ],
      "text/plain": [
       "   Paper_ID  Decade  Text_Length  Ads_Text_Length               Paper_Name  \\\n",
       "0  BNCN0071       1    402423059        224573128        Morning Chronicle   \n",
       "1  NCBL0117       1    322170564        180073255             Morning Post   \n",
       "2  BNCN0010       1    191035446         89022047       Caledonian Mercury   \n",
       "3  NCBL0130       1     67295837         33473755             Morning Post   \n",
       "4  BNCN0026       1     82597939         42258823  Jacksons Oxford Journal   \n",
       "\n",
       "        City   Latitude  Longitude     Ratio  \n",
       "0     London  51.507351  -0.127758  0.558052  \n",
       "1     London  51.507351  -0.127758  0.558938  \n",
       "2  Edinburgh  55.953252  -3.188267  0.465998  \n",
       "3     London  51.507351  -0.127758  0.497412  \n",
       "4     Oxford  51.752021  -1.257726  0.511621  "
      ]
     },
     "execution_count": 364,
     "metadata": {},
     "output_type": "execute_result"
    }
   ],
   "source": [
    "newspapers_names_text_loc.head()"
   ]
  },
  {
   "cell_type": "code",
   "execution_count": 506,
   "metadata": {},
   "outputs": [
    {
     "data": {
      "text/html": [
       "<div>\n",
       "<style scoped>\n",
       "    .dataframe tbody tr th:only-of-type {\n",
       "        vertical-align: middle;\n",
       "    }\n",
       "\n",
       "    .dataframe tbody tr th {\n",
       "        vertical-align: top;\n",
       "    }\n",
       "\n",
       "    .dataframe thead th {\n",
       "        text-align: right;\n",
       "    }\n",
       "</style>\n",
       "<table border=\"1\" class=\"dataframe\">\n",
       "  <thead>\n",
       "    <tr style=\"text-align: right;\">\n",
       "      <th></th>\n",
       "      <th>Paper_ID</th>\n",
       "      <th>Decade</th>\n",
       "      <th>Text_Length</th>\n",
       "      <th>Ads_Text_Length</th>\n",
       "      <th>Paper_Name</th>\n",
       "      <th>City</th>\n",
       "      <th>Latitude</th>\n",
       "      <th>Longitude</th>\n",
       "      <th>Ratio</th>\n",
       "    </tr>\n",
       "  </thead>\n",
       "  <tbody>\n",
       "    <tr>\n",
       "      <th>221</th>\n",
       "      <td>BNCN0042</td>\n",
       "      <td>4</td>\n",
       "      <td>13797058</td>\n",
       "      <td>1229094</td>\n",
       "      <td>Poor Mans Guardian</td>\n",
       "      <td>London</td>\n",
       "      <td>51.507351</td>\n",
       "      <td>-0.127758</td>\n",
       "      <td>0.089084</td>\n",
       "    </tr>\n",
       "  </tbody>\n",
       "</table>\n",
       "</div>"
      ],
      "text/plain": [
       "     Paper_ID  Decade  Text_Length  Ads_Text_Length          Paper_Name  \\\n",
       "221  BNCN0042       4     13797058          1229094  Poor Mans Guardian   \n",
       "\n",
       "       City   Latitude  Longitude     Ratio  \n",
       "221  London  51.507351  -0.127758  0.089084  "
      ]
     },
     "execution_count": 506,
     "metadata": {},
     "output_type": "execute_result"
    }
   ],
   "source": [
    "newspapers_names_text_loc[newspapers_names_text_loc['Paper_Name'] .str.contains('Poor Man')]"
   ]
  },
  {
   "cell_type": "code",
   "execution_count": 363,
   "metadata": {},
   "outputs": [],
   "source": [
    "newspapers_names_text_loc['Ratio'] = newspapers_names_text_loc['Ads_Text_Length']/newspapers_names_text_loc['Text_Length']"
   ]
  },
  {
   "cell_type": "code",
   "execution_count": 366,
   "metadata": {},
   "outputs": [
    {
     "data": {
      "text/html": [
       "<div>\n",
       "<style scoped>\n",
       "    .dataframe tbody tr th:only-of-type {\n",
       "        vertical-align: middle;\n",
       "    }\n",
       "\n",
       "    .dataframe tbody tr th {\n",
       "        vertical-align: top;\n",
       "    }\n",
       "\n",
       "    .dataframe thead th {\n",
       "        text-align: right;\n",
       "    }\n",
       "</style>\n",
       "<table border=\"1\" class=\"dataframe\">\n",
       "  <thead>\n",
       "    <tr style=\"text-align: right;\">\n",
       "      <th></th>\n",
       "      <th>Paper_ID</th>\n",
       "      <th>Decade</th>\n",
       "      <th>Text_Length</th>\n",
       "      <th>Ads_Text_Length</th>\n",
       "      <th>Paper_Name</th>\n",
       "      <th>City</th>\n",
       "      <th>Latitude</th>\n",
       "      <th>Longitude</th>\n",
       "      <th>Ratio</th>\n",
       "    </tr>\n",
       "  </thead>\n",
       "  <tbody>\n",
       "    <tr>\n",
       "      <th>0</th>\n",
       "      <td>BNCN0071</td>\n",
       "      <td>1</td>\n",
       "      <td>402423059</td>\n",
       "      <td>224573128</td>\n",
       "      <td>Morning Chronicle</td>\n",
       "      <td>London</td>\n",
       "      <td>51.507351</td>\n",
       "      <td>-0.127758</td>\n",
       "      <td>0.558052</td>\n",
       "    </tr>\n",
       "    <tr>\n",
       "      <th>1</th>\n",
       "      <td>NCBL0117</td>\n",
       "      <td>1</td>\n",
       "      <td>322170564</td>\n",
       "      <td>180073255</td>\n",
       "      <td>Morning Post</td>\n",
       "      <td>London</td>\n",
       "      <td>51.507351</td>\n",
       "      <td>-0.127758</td>\n",
       "      <td>0.558938</td>\n",
       "    </tr>\n",
       "    <tr>\n",
       "      <th>2</th>\n",
       "      <td>BNCN0010</td>\n",
       "      <td>1</td>\n",
       "      <td>191035446</td>\n",
       "      <td>89022047</td>\n",
       "      <td>Caledonian Mercury</td>\n",
       "      <td>Edinburgh</td>\n",
       "      <td>55.953252</td>\n",
       "      <td>-3.188267</td>\n",
       "      <td>0.465998</td>\n",
       "    </tr>\n",
       "    <tr>\n",
       "      <th>3</th>\n",
       "      <td>NCBL0130</td>\n",
       "      <td>1</td>\n",
       "      <td>67295837</td>\n",
       "      <td>33473755</td>\n",
       "      <td>Morning Post</td>\n",
       "      <td>London</td>\n",
       "      <td>51.507351</td>\n",
       "      <td>-0.127758</td>\n",
       "      <td>0.497412</td>\n",
       "    </tr>\n",
       "    <tr>\n",
       "      <th>4</th>\n",
       "      <td>BNCN0026</td>\n",
       "      <td>1</td>\n",
       "      <td>82597939</td>\n",
       "      <td>42258823</td>\n",
       "      <td>Jacksons Oxford Journal</td>\n",
       "      <td>Oxford</td>\n",
       "      <td>51.752021</td>\n",
       "      <td>-1.257726</td>\n",
       "      <td>0.511621</td>\n",
       "    </tr>\n",
       "  </tbody>\n",
       "</table>\n",
       "</div>"
      ],
      "text/plain": [
       "   Paper_ID  Decade  Text_Length  Ads_Text_Length               Paper_Name  \\\n",
       "0  BNCN0071       1    402423059        224573128        Morning Chronicle   \n",
       "1  NCBL0117       1    322170564        180073255             Morning Post   \n",
       "2  BNCN0010       1    191035446         89022047       Caledonian Mercury   \n",
       "3  NCBL0130       1     67295837         33473755             Morning Post   \n",
       "4  BNCN0026       1     82597939         42258823  Jacksons Oxford Journal   \n",
       "\n",
       "        City   Latitude  Longitude     Ratio  \n",
       "0     London  51.507351  -0.127758  0.558052  \n",
       "1     London  51.507351  -0.127758  0.558938  \n",
       "2  Edinburgh  55.953252  -3.188267  0.465998  \n",
       "3     London  51.507351  -0.127758  0.497412  \n",
       "4     Oxford  51.752021  -1.257726  0.511621  "
      ]
     },
     "execution_count": 366,
     "metadata": {},
     "output_type": "execute_result"
    }
   ],
   "source": [
    "newspapers_names_text_loc.head()"
   ]
  },
  {
   "cell_type": "code",
   "execution_count": 394,
   "metadata": {},
   "outputs": [],
   "source": [
    "issue_test = newspapers_names_text_loc.groupby(['City', 'Decade'], as_index=False)[['Text_Length', 'Ads_Text_Length']].sum()"
   ]
  },
  {
   "cell_type": "code",
   "execution_count": 400,
   "metadata": {},
   "outputs": [],
   "source": [
    "issue_test['Ratio']= round((issue_test['Ads_Text_Length']/issue_test['Text_Length'])*100,2)"
   ]
  },
  {
   "cell_type": "code",
   "execution_count": 403,
   "metadata": {},
   "outputs": [],
   "source": [
    "issue_test = issue_test.drop(['Text_Length', 'Ads_Text_Length'], axis=1)"
   ]
  },
  {
   "cell_type": "code",
   "execution_count": 416,
   "metadata": {},
   "outputs": [],
   "source": [
    "new_data = (issue_test.set_index('Decade').T)\n"
   ]
  },
  {
   "cell_type": "code",
   "execution_count": 425,
   "metadata": {},
   "outputs": [],
   "source": [
    "dfout = issue_test.set_index(['City','Decade']).unstack()['Ratio']\n"
   ]
  },
  {
   "cell_type": "code",
   "execution_count": 436,
   "metadata": {},
   "outputs": [],
   "source": [
    "dfout.to_csv('transpose.csv')"
   ]
  },
  {
   "cell_type": "code",
   "execution_count": 437,
   "metadata": {},
   "outputs": [],
   "source": [
    "trans = pd.read_csv('transpose.csv')"
   ]
  },
  {
   "cell_type": "code",
   "execution_count": 443,
   "metadata": {},
   "outputs": [],
   "source": [
    "city_coord  = trans.join(newspaper_loc_bn.set_index('City'), on='City')"
   ]
  },
  {
   "cell_type": "code",
   "execution_count": 488,
   "metadata": {},
   "outputs": [],
   "source": [
    "city_coord = city_coord.drop(['Latitude,Longitude'], axis = 1)"
   ]
  },
  {
   "cell_type": "code",
   "execution_count": 492,
   "metadata": {},
   "outputs": [],
   "source": [
    "city_coord['Longitude'] = Longitude"
   ]
  },
  {
   "cell_type": "code",
   "execution_count": 494,
   "metadata": {},
   "outputs": [],
   "source": [
    "city_coord.to_csv('cities_coord.csv', index=False)"
   ]
  },
  {
   "cell_type": "code",
   "execution_count": 483,
   "metadata": {},
   "outputs": [],
   "source": [
    "Latitude = []\n",
    "Longitude = []\n",
    "for c in city_coord['City']:\n",
    "    index_paper_loc = newspaper_loc_bn[newspaper_loc_bn['City'] == c]\n",
    "            \n",
    "    coord = index_paper_loc['Latitude,Longitude'].str.split(',').values\n",
    "    if len(coord)>0:\n",
    "        Latitude.append(coord[0][0])\n",
    "        Longitude.append(coord[0][1])\n",
    "    else:\n",
    "        Latitude.append(0)\n",
    "        Longitude.append(0)\n",
    "                "
   ]
  },
  {
   "cell_type": "code",
   "execution_count": null,
   "metadata": {},
   "outputs": [],
   "source": []
  }
 ],
 "metadata": {
  "kernelspec": {
   "display_name": "Python 3",
   "language": "python",
   "name": "python3"
  },
  "language_info": {
   "codemirror_mode": {
    "name": "ipython",
    "version": 3
   },
   "file_extension": ".py",
   "mimetype": "text/x-python",
   "name": "python",
   "nbconvert_exporter": "python",
   "pygments_lexer": "ipython3",
   "version": "3.6.8"
  }
 },
 "nbformat": 4,
 "nbformat_minor": 2
}
