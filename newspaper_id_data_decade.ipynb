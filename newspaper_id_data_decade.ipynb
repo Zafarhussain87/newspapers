{
 "cells": [
  {
   "cell_type": "code",
   "execution_count": 353,
   "metadata": {},
   "outputs": [
    {
     "name": "stdout",
     "output_type": "stream",
     "text": [
      "https://vm0824.kaj.pouta.csc.fi/octavo/bln1800/queryStats?query=%3CARTICLE%C2%A7articleType%3A%22Classified%20ads%22%20AND%20dateStart%3A%5B18500000%20TO%2018600000%5D%C2%A7ARTICLE%3E&field=newspaperID&maxDocs=-1\n"
     ]
    }
   ],
   "source": [
    "import urllib.parse\n",
    "level = \"ARTICLE\"\n",
    "date = \"[18500000 TO 18600000]\"\n",
    "art_type = \"Classified ads\"\n",
    "offset = \"0\"\n",
    "limit = \"500\"\n",
    "query = \"<\"+level+\"§articleType:\\\"\"+art_type+\"\\\" AND dateStart:\"+date+\"§\"+level+\">\"\n",
    "query = urllib.parse.quote(query)\n",
    "#url = \"https://vm0824.kaj.pouta.csc.fi/octavo/bln1800/search??pretty&fieldEnricher=&offsetDataConverter=&query=\"\n",
    "url = \"https://vm0824.kaj.pouta.csc.fi/octavo/bln1800/queryStats?query=\"\n",
    "url += query\n",
    "url+= \"&field=newspaperID&maxDocs=-1\"\n",
    "#url += \"&field=newspaperID&field=ocrConfidence&field=text&field=title&offset=\"+offset\n",
    "#url += \"&limit=\"+limit\n",
    "#url += \"&snippetLimit=0&contextLevel=Sentence&contextExpandLeft=0&contextExpandRight=0&level=&endpoint=https%3A%2F%2Fvm0824.kaj.pouta.csc.fi%2Foctavo%2Fbln1800%2F\"\n",
    "print(url)"
   ]
  },
  {
   "cell_type": "code",
   "execution_count": 354,
   "metadata": {},
   "outputs": [],
   "source": [
    "import urllib.request, json \n",
    "import re\n",
    "import nltk\n",
    "from nltk.corpus import wordnet as wn\n",
    "from nltk.stem.wordnet import WordNetLemmatizer\n",
    "from nltk.corpus import stopwords\n",
    "from nltk.tokenize import word_tokenize\n",
    "import pandas as pd\n",
    "\n",
    "import pyLDAvis\n",
    "def warn(*args, **kwargs):\n",
    "    pass\n",
    "import warnings\n",
    "warnings.warn = warn\n",
    "pd.options.mode.chained_assignment = None"
   ]
  },
  {
   "cell_type": "code",
   "execution_count": 355,
   "metadata": {},
   "outputs": [],
   "source": [
    "#Importing Gensim and it's dependencies\n",
    "import gensim\n",
    "import gensim.corpora as corpora\n",
    "from gensim.utils import simple_preprocess\n",
    "from gensim.models import CoherenceModel\n",
    "import pyLDAvis\n",
    "import pyLDAvis.gensim \n",
    "from gensim import models, corpora"
   ]
  },
  {
   "cell_type": "code",
   "execution_count": 356,
   "metadata": {},
   "outputs": [],
   "source": [
    "stop_words = stopwords.words('english')"
   ]
  },
  {
   "cell_type": "code",
   "execution_count": 357,
   "metadata": {},
   "outputs": [],
   "source": [
    "with urllib.request.urlopen(url) as url:\n",
    "    data = json.loads(url.read().decode())"
   ]
  },
  {
   "cell_type": "code",
   "execution_count": 358,
   "metadata": {},
   "outputs": [],
   "source": [
    "paper_id = []\n",
    "for k in range(total_papers):\n",
    "              paper_id.append(data['results']['grouped'][k]['fields']['newspaperID'])"
   ]
  },
  {
   "cell_type": "code",
   "execution_count": 359,
   "metadata": {},
   "outputs": [
    {
     "data": {
      "text/plain": [
       "122"
      ]
     },
     "execution_count": 359,
     "metadata": {},
     "output_type": "execute_result"
    }
   ],
   "source": [
    "len(set(paper_id))"
   ]
  },
  {
   "cell_type": "code",
   "execution_count": 362,
   "metadata": {},
   "outputs": [
    {
     "name": "stdout",
     "output_type": "stream",
     "text": [
      "https://vm0824.kaj.pouta.csc.fi/octavo/bln1800/search??pretty&fieldEnricher=&offsetDataConverter=&query=%3CARTICLE%C2%A7articleType%3A%22Classified%20ads%22%20AND%20dateStart%3A%5B18500000%20TO%2018510000%5D%20AND%20newspaperID%3A%22BNCN0013%22%C2%A7ARTICLE%3E&field=ocrConfidence&field=text&field=title&offset=0&limit=-1&snippetLimit=0&contextLevel=Sentence&contextExpandLeft=0&contextExpandRight=0&level=&endpoint=https%3A%2F%2Fvm0824.kaj.pouta.csc.fi%2Foctavo%2Fbln1800%2F\n"
     ]
    }
   ],
   "source": [
    "newspaper_id = 'BNCN0013'\n",
    "level = \"ARTICLE\"\n",
    "date = \"[18500000 TO 18510000]\"\n",
    "art_type = \"Classified ads\"\n",
    "offset = \"0\"\n",
    "limit = \"-1\"\n",
    "query = \"<\"+level+\"§articleType:\\\"\"+art_type+\"\\\" AND dateStart:\"+date+\" AND newspaperID:\\\"\"+newspaper_id+\"\\\"§\"+level+\">\" \n",
    "query = urllib.parse.quote(query)\n",
    "url = \"https://vm0824.kaj.pouta.csc.fi/octavo/bln1800/search??pretty&fieldEnricher=&offsetDataConverter=&query=\"\n",
    "url += query\n",
    "#url += \"&field=newspaperID&field=ocrConfidence&field=text&field=title&offset=\"+offset\n",
    "url+= \"&field=ocrConfidence&field=text&field=title&offset=\"+offset\n",
    "url += \"&limit=\"+limit\n",
    "url += \"&snippetLimit=0&contextLevel=Sentence&contextExpandLeft=0&contextExpandRight=0&level=&endpoint=https%3A%2F%2Fvm0824.kaj.pouta.csc.fi%2Foctavo%2Fbln1800%2F\"\n",
    "print(url)"
   ]
  },
  {
   "cell_type": "code",
   "execution_count": 363,
   "metadata": {},
   "outputs": [],
   "source": [
    "with urllib.request.urlopen(url) as url:\n",
    "    data = json.loads(url.read().decode())"
   ]
  },
  {
   "cell_type": "code",
   "execution_count": 364,
   "metadata": {},
   "outputs": [
    {
     "data": {
      "text/plain": [
       "dict_keys(['text', 'title', 'ocrConfidence', 'score'])"
      ]
     },
     "execution_count": 364,
     "metadata": {},
     "output_type": "execute_result"
    }
   ],
   "source": [
    "data['results']['docs'][499].keys()"
   ]
  },
  {
   "cell_type": "code",
   "execution_count": 365,
   "metadata": {},
   "outputs": [
    {
     "data": {
      "text/plain": [
       "910"
      ]
     },
     "execution_count": 365,
     "metadata": {},
     "output_type": "execute_result"
    }
   ],
   "source": [
    "len(data['results']['docs'])"
   ]
  },
  {
   "cell_type": "code",
   "execution_count": 294,
   "metadata": {},
   "outputs": [
    {
     "data": {
      "text/plain": [
       "122"
      ]
     },
     "execution_count": 294,
     "metadata": {},
     "output_type": "execute_result"
    }
   ],
   "source": [
    "total_articles = len(data['results']['grouped'])\n",
    "total_articles"
   ]
  },
  {
   "cell_type": "code",
   "execution_count": 252,
   "metadata": {},
   "outputs": [
    {
     "data": {
      "text/plain": [
       "dict_keys(['text', 'newspaperID', 'title', 'ocrConfidence', 'score'])"
      ]
     },
     "execution_count": 252,
     "metadata": {},
     "output_type": "execute_result"
    }
   ],
   "source": [
    "data['results']['docs'][0].keys()"
   ]
  },
  {
   "cell_type": "code",
   "execution_count": 253,
   "metadata": {},
   "outputs": [],
   "source": [
    "paper_id = []\n",
    "ads= []\n",
    "for i in range(0, total_articles):\n",
    "    ads.append(data['results']['docs'][i]['text'])\n",
    "    paper_id.append(data['results']['docs'][i]['newspaperID'])\n",
    "    "
   ]
  },
  {
   "cell_type": "code",
   "execution_count": 254,
   "metadata": {},
   "outputs": [
    {
     "data": {
      "text/plain": [
       "{'text': 'WAHTED,\\n\\nIN . small Family, where two Servants are kept, a\\n\\nGOOD PLAIN COOK, who must have an excel-\\n\\nlent character.\\n\\nApp\\'y t0 tne PaiNTER.\\n\\nWANTED,\\n\\n\\\\S HOUSEMAID, a YOUNG WOMAN, who must\\n\\nbring with her a good Character.\\n\\nApply to Mrs. HOPWOOD, Rock Cliffe.\\n\\nWANTED,\\n\\nIK a Power-Loom Shirting Manufactory, a MAN\\n\\nwbo has a thorough knowledge of the weaving\\n\\ndepartment, and can take the general management :\\ncone need apply who have not filled a similar situation.\\n\\nAddress Box 303, Post-Office, Manchester.\\n\\nLOWER BANK ACADEMY~\\n\\nJ. THOMPSON\\n\\nRESPECTFULLY informs hi. Friend, that the du-\\n\\ntie. of hi. Establishment will be resumed on the\\n\\n15th inst.\\n\\nDANCING.\\n\\nMR. G ILLINS\\n\\nRESUMES his Instruction for the ADULT CLASS\\n\\non FRIDAY EVENING NEXT, at the Bull Inn.\\n\\nJanuary 7th.\\n\\nTHE SIXTH\\n\\nANNUAL BALL\\n\\nIN aid of the Funds of the BLACKBURN MECHA-\\n\\nNICS\\' INSTITUTION, will be held in the AS-\\n\\nSEMBLY ROOM, Heaton Street, on MONDAY,\\nFebruary 4th, 1850.\\n\\nFarther particular, in future advertisement*.\\n\\nMUSICAL EDUCATION.\\n\\n-A-\\n\\nMR. ROILEY,\\n\\nPROFESSOR OF MUSIC,\\n\\nAnd Organist of the Parish Church,\\n\\nBLACKBURN,\\n\\nBEGS most respectfully to inform his Pupil, and\\n\\nFriend., that he will resume his Professional\\n\\nDutie. in teaching the ORGAN, PIANOFORTE, and\\nSINGING, on MONDAY, the 21st day of Januaef,\\n1850.\\n\\nTerms may be known on application to Mr. ROI-\\nLEY, at his Musical Academy, 10, Albert Place, Mon-\\ntague Street, Blackburn.\\n\\nJan. 7th, 1850.\\n\\nNEW DECIMAL PALM CANDLES,\\n\\n6jd. per lb., ten to the lb.\\n\\nr |\"*HESE Candles, though ugly, burn well and with-\\n-1 out guttering. They are admirably adapted for\\nall who require one which emits a great light. For\\nArtisans, Turner, in Metal, Sempstresses, Tailors, Shoe-\\nmakers, for the window, of small shops, and for per-\\n•oiis of weak sight, where the light is of primary, and\\nappearance of secondary importance, these Candles are\\nincomparable; in short, one Decimal Palm Candle gives\\nthe light of three ordinary Candles.\\n\\nSold by JAMES PARKINSON, Chymist, Church\\nStreet, and Northgate, Blackburn.\\n\\nPERUVIAN GUANO.\\n\\n4 S Agents of the Peruvian Government for the im-\\n-a*X portation and sale of thi. valuable MANURE, we\\nthink it right, for the Protection of consumers and res-\\npectable dealers, to apprise them that the adulteration\\nof th. article is still extensively practised, and to re-\\ncommend them to apply either to onraelves, to our\\nagents, .Messrs OIBBS, BRIGHT, and Co., ot Liver-\\npool and Bristol, or to dealers of established character,\\nio whose honesty and fair dealing they can place im-\\nplicit confidence.\\n\\nANTHONY GIBBS and SONS.\\n\\nLondon, Nov., 1849.\\n\\nNOTICE.\\n\\nBLACKBUBN SAVINGS\\' BANK.\\n\\nDEPOSITORS are required by Act of Parliament\\n\\n(\"th. and Bth. Vie. c 85, sec. 5,) see Rule No.\\n\\n19, to bring in tlieir Books for examination, and at the\\n».me time have the Interest due to them up to the\\noUt of October, 1849, added to their several ac-\\nconnts.\\n\\nThe Trustees and Managers have appointed the fol-\\nlowing days for the before mentioned Examination,\\nTiz, each MONDAY and SATURDAY, commencing\\non Monday, the Seventh in.tant, and continuing to\\nSaturday, the Second of February, inclusive.\\n\\nHours of Attendance from Eleven iv the Morning,\\nto Four in the Afternoon.\\n\\nW. H. MORRICE,\\n\\nActuary.\\n\\nN B. — The General Business of the Bank will be\\n\\nconducted as usual, on Saturday, only, from Two to\\nFive o\\'clock in the Afternoon.\\n\\nJanuary 6th, 1850.\\nTO HAY DEALERS, CONTBACTOES, afccT\\n\\nMR. JOHN THOMPSON\\n\\nHAS BEEN HONOURED WITH INSTRUCTIONS TO\\n\\nSELL BY AUCTION,\\n\\nOn Monday, the Fourteenth day of January, 1850,\\n\\nat the house of Mr. James Pearson, the sign of the\\nUnicorn Inn, Walton, the .ale to commence at Two\\no\\'clock in the Afternoon ;\\n\\nABOUT 2,000 Yards of excellent, prime, rich,\\n\\nwell-got HAY, in stacks, seven of which are\\n\\n.tending upon Mr. Thomas Wise\\'s Farm, near Pen-\\n*ortham Factory, and three upon Mr. John Pember-\\nton\\'g Farm, at Walton Hall, of the growth of 1848.\\n\\nThe respective tenant, will show the said Hay, and\\n\\nfor further particulars apply to Mr. THOMAS WHIT-\\nTAKER, Walton-le-Dale.\\n\\nJanuary S, 1850.\\n\\nSale of Oak, Ash, Beech, Sycamore, and\\n\\nAlder Timber.\\n\\nTO BE SOLD BY AUCTION,\\n\\nBY Mb. W. H. MORRICE,\\n\\nAt the house of Mrs. Hoclker, the Bay Horse Inn,\\n\\niv Blackburn, in the County of Lancaster, on Wed-\\nnesday, the Twenty-third day of Januaby, 1850,\\nat Six o\\'clock in the Evening ;\\n\\nH^HE following LoU of valuable TIMBER, now\\nX .tanding npon the Ramsgreave Hall Estate, in the\\nTownship of Ramsgreave, near Blackburn, viz : —\\nLot 1. — 55 Oak Trees, numbered from 1 to 55, both\\n\\ninclusive, and 50 Cypher., standing in the Ann\\nWood.\\n\\nLot 2.-65 Oak Trees, numbered from 56 to 120, both\\n\\ninclusive, and 66 Cyphers, also standing in the\\nsame Wood.\\n\\nLot 3.-68 Oak Trees, numbered from 121 to 188,\\n\\nboth inclusive, and 56 Cyphers, also standing in\\nthe same Wood.\\n\\nLot 4.-69 Oak Trees, numbered from 189 to 257,\\n\\nboth inclusive, and 67 Cyphers, also standing in\\nthe same Wood.\\n\\nLot 6.-46 Oak Trees, numbered from 258 to 303,\\n\\nboth inclusive, and 65 Cyphers, also standing in\\nthe same Wood.\\n\\nLot 6.-48 Oak Trees, numbered from 1 to 48, both\\n\\ninclusive, and 72 Cyphers, standing in the Fields\\nadjoining tbe Ann Wood.\\n\\nLot 7 — 10 Ash Tree., numbered from 1 to 10, both\\n\\nincln.ive; 7 Beech Trees, numbered from 1 to\\n7, both inclusive ; and 3 Sycamore Trees, num-\\nbered from 1 to 3, both inclusive, and 30 Cyphers,\\nal.o standing in the Ann Wood, and in the Field,\\nadjoining tbe »atne Wood.\\n\\nLot 8.-63 Alder Tree., numbered from 1 to 63, both\\n\\nioclu»iv«, _»d 108 Cyphers, al.o .tanding in tbe\\nAnn Wood.\\n\\nLot ».— 3B Alder Tree., numbered from 64 to 101,\\n\\nboth inclu.ive, and 67 Cypher., al.o standing in\\ntbe same Wood.\\n\\nLot 10.— 28 Alder Tree., numbered from 102 to 129,\\n\\nboth inclusive, and 70 Cypher., also .Unding in\\nthe same Wood.\\n\\nLot 11—62 Alder Tree., numbered from 1 to 62, both\\n\\ninclu.ive, and 109 Cypher., .tanding in the Field,\\nadjoining the Ann Wood.\\n\\nMr. JAMES HARRISON, tbe tenant of the Rarn.-\\n\\n\"■■■taave Hall Farm, will .how the Timber; and any\\nfurther information may be obtained at tbe Office of\\n■•««■ ROBINSON and PERFECT, Solicitor., Black-\\nburn.\\n\\nBUajkbani, 29th December, 1841}.\\n\\nTURNPIKE ROAD\\n\\nFrom Clitheroe through Whalley to Black-\\n\\nburn and Mellor Brook.\\n\\nTH E GENERAL ANNUAL MEETING of the\\n\\nTrustees or Commissioners of the Turnpike Road,\\n\\nfrom Clitheroe through Whalley to Blackburn and\\nMellor Brook, will be held at the Swan Inn, in\\nWhalley, on Saturday, the Second day of February\\nnext, at Eleven o\\'clock in the Forenoon, for the pur-\\npose of AUDITING THE ACCOUNTS OF THE\\nTRUST, between the first day of January and the\\nthirty-first day of December, 1849.\\n\\nDIXON ROBINSON,\\n\\nClerk to the Trustees of the .aid Road.\\n\\nBlackbnrn, Bth Jan., 1850.\\n\\n\\\\\\\\ r A LX! ? R s KIRROW r\\n\\n, Esquire, one of Her Ma-\\n\\nf T jesty\\'s Commissioners, authorized to act under a\\nFiat in Bankruptcy, bearing date the twenty-third day\\nof December, 1847, awarded and issued forth against\\nROBERT NIGHTINGALE, late of Chorley, in the\\nCounty of Lancaster, Grocer, and now of Bury, in the\\n■aid County, Common Brewer, will sit on the Twenty-\\nfourth day of January in.tant, at Twelve o\\'clock at\\nNoon precisely, at the Court of Bankruptcy, in George\\nStreet, Manchester, in order to AUDIT THE AC-\\nCOUNTS of the Assignees of the Estate and Effects\\nof the .aid Bankrupt, under the said Fiat, pursuant to\\nthe Acts of Parliament made and now in force relating\\nto Bankrupts.\\n\\nAINSWORTH & HOLLINSHEAD, }\\n\\nBlackbnrn, f Solici-\\n\\nSALE, WORTHINGTON, & SHIPMAN.r tore.\\n\\nManchester, 3\\n\\nWALKER SKIRROW, Enquire, one of Her Ma-\\n\\njesty\\'s Commissioners, authorized to act nnder a\\n\\nFiat in Bankruptcy, bearing date the twenty-third day\\nof December, 1847, awarded and issued forth against\\nROBERT NIGHTINGALE, late of Chorley, in the\\nCounty of Lancaster, Grocer, and now of Bury, in the\\nsaid County, Common Brewer, will sit on the First day\\nof February next, at Eleven o\\'clock in the Forenoon\\nprecisely, at the Court of Bankruptcy, in George Street,\\nManchester, in order to make A DIVIDEND of the\\nEstate and Effects of the said Bankrupt, under the said\\nFiat, when and where the Creditors, who bave not al-\\nready proved their debt., are to come prepared to prove\\nthe same, or tbey will be excluded the benefit of the\\nsaid Dividend. And all claims not then proved will be\\ndisallowed.\\n\\nAINSWORTH & HOLLINSHEAD,\\n\\nBlackburn, f Solici-\\n\\nSALE, WORTHINGTON, & SHIPMAN.r tors.\\n\\nManchester, N\\n\\nTO MANUFACTURERS.\\n\\nJOHN CROWLEY AND Co.,\\n\\nLICENSED AND SOLE MAKERS OF B. WOOD-\\n\\nCBOFT\\'S PATENT SECTION TAPPET.\\n\\nTHE Patent Tappet possesses the following advan-\\n\\ntages : — The plates of the Section Tappet are\\n\\nparallel to each other, whereby a less amount of friction\\nis produced against them by the treadle stud and bowls,\\nthan by the common plates. The jiggers or parts in\\nrelief, which give motion to the bowls, are set out on a\\ngeometrical principle, so that the shafts rise and fall\\nequal distances in equal times. By these means the\\nblow of the reed is borne by each warp thread equally,\\nwhether the weft be struck home with the shed open,\\nshut, or crossed. The consequence is, that fewer threads\\nare broken, and the healds are less worn.\\n\\nThis Tappet will also weave weaker yarn than the\\n\\nordinary one, and it is now generally applied to looms\\nfor weaving cotton, silk, linen, and woollen. One\\nTappet, of any number to the round, will weave all\\npatterns capable of being woven by that number of\\npicks.\\n\\nPatent sections may be had to weave the following\\n\\nnumbers of picks, viz., 3. 4, 6, 8, 9, 10, 11,12, 14, 15,16,\\n17, 18, 20, 21, 24, 26, 28, 32, 36, 48, and 56 ; with suit-\\nable dwells for making twills, pillows, velveteens, sat-\\nteens, jeanets, cords, tabbys, velvets, dimities, muslin\\nspots, fancy silks, satins, linen and cotton drills, can-\\ntoons, gambroons, or any description of warp patterns.\\n\\nJ. Crowley and Co. have in their employment Mr.\\n\\nYoung, a pattern designer ; manufacturers sending a\\npiece of woven cloth, can have any number of Tappets\\nsent, suitable for making the article required.\\n\\nN.B. — Every description of Tappet Wheels, Pinions,\\n\\nJacks, Treadles, Bowls, and Bolts; Annealed Castings;\\nMule and Throstle Wharves, &c. — 4, Cannon Street,\\nHanging Ditch, Manchester.\\n\\nDB. YOUNG\\'S URETHRIC MIXTURE,\\n\\nA SPEEDY AND EFFECTUAL CORE\\n\\nFor Stricture, Stone, Gravel, and all Diseases of the\\n\\nKidneys and Bladder.\\n\\nTHE efficacy of this Medicine in the above com-\\n\\nplaints has been long proved by its unparalleled\\n\\nsuccess in a practice of many years\\' standing, and has\\ninduced the present proprietor to make it more gene-\\nrally known. Its object is to supersede the necessity\\nof using the Bougie, which from frequent use, makes\\nthe passage more susceptible of disease, and frequently\\nbrings on a confirmed case of Diseased Prostrate Gland ;\\nit quickly removes all soreness, quiets irritation, and\\nallay, the inflammation that invariably attends these\\npainful diseases.\\n\\nSTONE, GRAVEL, See.\\n\\nIn these case, (perhaps the most painful that the hu-\\n\\nman frame is subject to) the Mixture will be found of\\nthe utmost efficacy ; it gently acts on the Kidneys, pro-\\nducing a greater flow by the Urether to the Bladder,\\nand there forming a complete solution, it not only dis-\\nsolves and takes up any Sediment or Gravel, but also\\ntends to assist the Glands in dispelling any small par-\\nticle of Stone that may remain in the Bladder.\\n\\nSold, in bottles, at 2s. 9d., 4s. 6d., and lis. each, by\\n\\nJ. SANGER, 150, Oxford-street, London ; and by\\nSLATER, PARKINSON, WOOD, Blackburn; Brad-\\nbury, Hudsmith, Reynolds, Scow-croft, Warburton,\\nBolton; Warburton, Chowbcnt ; Barnes, Cameron, Ed-\\nmondson, Raw, Sharpies, Preston; Clarke, Carrnthers,\\nJackson, Milner, Whimpray, Wilson, Lancaster; and\\nall respectable Medicine Venders thronghout the\\ncountry.\\n\\nAS SUPPLIED _) _3_^K__i_. TOTHE\\n\\nCaptain Pidding\\'s Mowqua\\'s Mixture Tea\\nIS AN ADMIXTURE OF 40 RARE BLACK TEAS,\\nPRODUCED on as manydifferent Plantations, each Tea differ\\n\\ning from the rest, and possessing a flavour, a fragrance or\\n\\nstrength, peculiar to itself. Blended together in the proper pro-\\nportions, they comprise all that is desirable in Tea. This dis-\\ncovery was not the effect of chance, but of many great advan-\\ntages united in one individual, and the result of numerous\\nexperiment* and the most minute analysis. For another to\\nproduce the same result, he must possess equal .kill, the same\\ndiscriminating taste, equal power of procuring the 40 various\\nTeas required, and know the exact proportions of each kind\\nused, — and though he may never once bave visited China, he\\nmust have had equal opportunities of securing to himself its\\nproductions : with one, who, like Capt. Pidding, has spent years\\nthere in acquiring these advantages, and to whom alone How-\\nqua—years before his death — imparted at Canton, the secret of\\ncompounding his Mixture.\\n\\nYet there are upwards 500 retailers pretending to sell Tea,\\n\\nthey call \" Howqua\\'s Mixture\"— each mixture differing from all\\nthe others. Now, as there can be but one real \" Howqua\\'s\\nMixture,\" it follows that, as 500 different medleys are offered —\\n499 must be spurious. The 499 counterfeits are so many evi-\\ndences of the superiority of the one gekuike. And it would\\nbe absurd to suppose that Captain Pidding, with advantages,\\nthe result of eight voyages made to China, and 5 years spent\\nin that country, would be .0 silly — even were it possible — as to\\nyield them up to 500 other., or impart to tbem so valuable a\\nsecret.\\n\\nThe very great celebrity this Tea has acquired having tempted\\n\\nmany unprincipled persons to give (.imilar, or nearly similar\\ntitles to their own spurious mixtures, to guard against such\\nimposition, purchasers should observe that\\n\\n\"THE SIGNATURE THUS,\"\\n\\nHon. Company\\'s Service, is on every genuine package.\\n\\nTo those who drink Green Tea, \"Capt. Pidding\\'s Howqua\\'s\\n\\nSmall Leaf Gunpowder,\" grown only on one estate, is recom-\\nmended for its strength and economy, and as being the purest\\nand most wholesome Green Tea imported from China.\\n\\nCaptain Pidding has appointed the under Agents for this\\n\\nDistrict.\\n\\nAgent for Blackburn, Mr. J. Parkinson,\\n\\nChymist, Church Street.\\n\\nAccrington. .Mrs. Hutchinson, Bookseller.\\n\\n\\x84 E. Bowker, Bookseller.\\n\\nAshton-under Lyne..W. Hirst, Tea Dealer.\\n\\nW. Leach. Grocer.\\n\\n\"\\'\\n\\nW. Stanfield, Tea Dealer.\\n\\nBnry..W. McLean, Draper.\\n\\nH. Maiden, Druggist.\\n\\n„ G. Moscrop, Tea Dealer.\\n\\nBolton.. G. J. French, Silk Mercer.\\nBurnley. .Thomas Sutcliffe, Bookseller, 20, St. James..\\nBury. .8. Moscrop, Tea Dealer.\\nChorley.. G. Houghton, Bookseller.\\nColne. .W. Wilkinson, Grocer.\\nLiverpool. .George Carlyle, SB, Bold-.treet.\\nWigan.. E. H. Barnish, Chymist.\\nLeigh. .Newton and Jones, Drapers.\\nManchester. .John Ford & Co., 6, St. Ann\\'s-.quare\\nOldham. .H. Evan., Tea Dealer.\\nPrescot. .W. T. Kidd, Tea Dealer, &c.\\nPre.ton..H. Arm.trong, Chymist.\\n\\nJ. M.wdesley, Draper.\\n\\n\\x84 J. Staley, Druggist.\\n\\nStaley Bridge.. W. C. Boyes Grocer\\n\\nJohn Knight, Waterloo House.\\nJohn Higham, Draper.\\nW. Brodbelt, Provision Dealer.\\n\\nRochdale. .Jame. Booth, ChymUt, 159, Yorkshirt-etreet.\\n\\n„ E. Gilpin, do.\\n\\nSouthport. .W. TyTer, Tea Dealer.\\n\\nBLACKBURN\\n\\nGAS-LIGHT COMPANY.\\n\\nNotice ig hereby given,\\n\\nTHAT the next GENERAL ANNUAL MEETING\\n\\nof the BLACKBURN GAS-LIGHT COMPANY,\\n\\nwill be held at the Office of the said Company, in\\nJubilee Street, in the town of Blackbnrn, en Thursday,\\nthe Tenth day of January instant, at Eleven o\\'clock\\nin the Forenoon, in pursuance of an Act passed in the\\nsecond year of the reign of her present Majesty, inti-\\ntuled, \" An Act for better lighting with Gas the Town\\n\"and Township of Blackburn, in the County Palatine\\n\" of Lancaster.\"\\n\\nDated this first day of Jannary, 1850.\\n\\nDIXON ROBINSON,\\n\\nClerk to the said Company.\\n\\nALUM^j_CAR.\\nTO BE LET,\\nBY PRIVATE TREATY,\\n\\n(With Possession at May day next,)\\n\\nA LL that compact and desirable ESTATE, known\\nii by the name of « THE ALUaM ROCK VILLA,\"\\nsituate in Pleasington, with or without about Ten Acres,\\nStatute Measure, of good Meadow and Pasture Land,\\nlate in the occupation of Mrs. Boys.\\n\\nThe Villa is a substantial structure, replete with\\n\\nevery convenience, aW\"*\" comprises, on tbe base-\\nment, excellent Cellars ; on the first floor, two\\nParlours, Sitting Room, Kitchens, Store Room,\\nand other Offices ; and on tbe upper floor, seven\\nairy Bed Rooms, and Closet. The Farm Build-\\nings are substantial and convenient.\\n\\nThe Property adjoins Woodfold Park, is distant\\n\\nthree mile, (not half-an-hour\\'. drive) from the\\nrapidly increasing Market Town of Blackbnrn,\\nfrom whence there is Railway communication with\\nall parts of the kingdom.\\n\\nFor treaty, apply to JOHN ROMNEY, Feni.cowles.\\nFeniscowles, Jan. Ist, 1850.\\n\\nARROWBOOT BISCUITS.\\n\\nHAYLOCK & Co.\\n\\nRESPECTFULLY call attention to their unrivalled\\n\\nARROWROOT BISCUITS, which form a most\\n\\nnutritious food for Invalids and Children, and are, from\\ntheir fine flavour and extreme dryness, a delicious ac-\\ncompaniment to wine.\\n\\nH. & Co. have just completed a\\n\\nSOIREE BISCUIT,\\n\\nof exceedingly delicate flavour, and a very elegant\\nauxiliary at dessert, or at the tea and coffee tables.\\n\\nH. & Co.\\'s much used granulated Infant\\'s Food, is\\n\\nnow packed in lib. tin canisters.\\n\\nH. & Co. continue to manufacture Soda, Cabin\\n\\nLunch, and Abernethy Biscuits, of the choicest quality\\n\\nSOLD BY\\n\\nTHO MAS EM M OTT,\\n\\nCONFECTIONER,\\n\\n13, King William Street, Blackburn.\\n\\nARROWROOT BISCUITS.\\n\\nOPINIONS of the fbess.\\n\\n\" We have no hesitation in stating that they are the\\n\\nmost delicious Biscuits we have ever tasted.\"—Liver-\\npool Times.\\n\\n\"An article of desirable consumption, both by the\\n\\nvaletudinarian and invalid.\" — Manchester Courier.\\n\\n\" Superior to anything of the kind yet offered to the\\n\\npublic, not even excepting the celebrated Le Mann\\'s of\\nThreadneedle-street, London.\" — Mono\\'s Herald.\\n\\nPOCKET DOOKS, DIABIES, &c., ~\"\\n\\nFOR 1850.\\n\\nGENERAL PRINTING AND STATIONERY\\n\\nESTABLISHMENT,\\n\\nStandard Office, 9, King William Street, Blackburn.\\n\\nJ. WALKDEN\\n\\nHAS BECEIVED HIS ANNUAL SUPPLY OF\\n\\nALMANACKS,\\n\\nINCLUDING Old Moore\\'s, Moore\\'s Improved, the\\n\\nClergyman\\'s, Wills\\'s Clerical, the Gardener\\'s, John-\\n\\nson\\'s Farmers\\', the Englishman\\'s, the British ditto and\\nCompanion (in cloth), Oxford, Cambridge, Stationer\\'s,\\nVestry, the National, Paragon, Tilt\\'s Hat, Tilt\\'s Pocket,\\nTilt\\'s Miniature, Goldsmith\\'s, Peacock\\'s Interleaved,\\nTilt\\'s Sunday, ditto in gold, Poor Richard\\'s, and Tilt\\'s\\nUseful Almanacks.\\n\\nTHE COMIC ALMANACK.\\n\\nAlso, a great variety of\\n\\nPOCKET BOOKS, & q ._ ,\\n\\nCOMPBISINO\\n\\nThe Regent; ditto in Morocco tnck ; Peacock\\'s Polite\\nRepository ; ditto in Morocco tuck or in Russia case ;\\nHarwood\\'s Pocket Books; Adcock\\'s Engineer\\'s Pocket\\nBook, 65. ; PUNCH\\'S POCKET BOOK, 2s. 6d. ;\\nChristian Remembrancer, 2s. Gd. ; Christian Lady\\'s\\nDiary, 2s. Gd. ; Poole\\'s Select Pocket Remembrancer,\\n2s. Gd.; Marshall\\'s Ladies\\' Daily Remembrancer 2s. 6d ;\\nThe Wreath, or Ladies\\' Keepsake, 2s. Gd. ; Marshall\\'s\\nElegant Ladies\\' Pocket Souvenir, 2s. 6d. ; The Keep-\\nsake, or Ladies\\' Diary, 2s. Gd ; La Belle Assemblee, or\\nFashionable Repository, 2s. 6d. ; Marshall\\'s Gentle-\\nman\\'s Pocket Book, 2s. Cd. ; Peacock and Mansfield\\'s\\nGentleman\\'s Vade Mecum, 2s. Gd. ; Carnan\\'s Ladies\\'\\nPocket Book, 2s. Gd. ; Pawsey\\'s Ladies\\' Fashionable\\nRepository, 2s. Gd. ; Poole\\'s London Annnal Reposito-\\nry, 2s. 6 J. ; Marshall\\'s Ladies\\' Fashionable Repository,\\n2s. Gd. ; Gutch\\'s Literary and Scientific Register, 3s.\\n6d. ; The Scripture Pocket Book, 2s. 6d. ; Poole\\'s Gen-\\ntleman\\'s Pocket Memorandum Book, 2s. 6d. ; Fulcher\\'s\\nLadies\\' Memorandum Book, 2s. 6 J ; Gentleman\\'s Pocket\\nRemembrancer, 2s. 6d. ; The Lily, or Ladies\\' Annual,\\nIs. 6d. ; The Garnet, or Ladies\\' Useful Pocket Book,\\nIs. 6d. ; The Gem, or Useful Pocket Book, Is. Gd. ;\\nThe Universal Pocket Diary, Is. 6d.; The Ruby, or\\nLadies\\' Boudoir Pocket Book, Is. 6d. ; The Universal\\nRemembrancer, Is. 6J. ; Renshaw\\'s Superb Pocket\\nBook, Is. ; The Magnet, or Ladies\\' Pocket Book, Is. ;\\nRenshaw\\'s Annual Repository, Is. ; Renshaw\\'s Royal\\nPocket Book, Is.\\n\\nA very large assortment of Ladies\\' and Gentlemen\\'s\\n\\nDIARIES,\\n\\nAMONG WHICH WILL BE FOUND\\n\\nLetts\\'s Diaries, of different sizes and patterns ; Dunn\\'s\\n\\ndo., do., do. ; Shaw\\'s Diaries ; Harwood\\'s Diaries, ruled\\nfeint aud common, in various sizes and bindings; Do\\nMetallic do., do.; Do. Pocket Books, do.; Pawsey\\'s\\nDiaries; Collins\\' Diaries; Rees\\'s Improved do.; Sut-\\nÜby\\'s do. ; Universal Pocket do.\\n\\nHOUSEKEEPERS ACCOUNT BOOKS.\\nPoole\\'s, March\\'s, Child\\'s, Rundell\\'s, Show6ll\\'. Ro-\\n\\nbin.\\', and Mansfield\\'s; Rock\\'s Family Account Book.\\n\\nANNUALS FOR 1850.\\n\\nThe Court Album, £1 Is. ; The Keepsake, by the\\n\\nCountess of Blessington, £1 Is. ; Fisher\\'s Drawing-\\nroom Scrap Book, £1 Is. ; Do. Juvenile Scrap Book.\\n\\nJ. W. has also on hand a large selection of\\n\\nNEW JUVENILE BOOKS,\\n\\nsuitable for CHRISTMAS and other presents.\\n\\nBIBLES, PRAYER BOOKS, COMPANIONS TO\\nTHE ALTAI., and CHURCH SERVICES, in velvet,\\nmorocco, and antique bindings.\\n\\nA L AP.fi i: ASSORTMENT OF\\n\\nT\";HE NEWEST MUSIC, constantly on hand.\\n\\nPLAIN AND FANCY STATIONERY ;\\n\\nWove, Cream and Blue Laid, Adhesive, Commercial,\\nFancy, Embossed, Lace, and Enamelled\\n\\nENVELOPES.\\n\\nBridal Envelopes, expressly designed for the occasion ;\\n\\nMOURNING and HALF-MOURNING do.\\n\\nWRITING PAPERS\\n\\nOf every description : — Cream Laid Note and Letter\\nPaper ; Laid and Wove Foolscaps ; Large and Small\\nPost, in folio and quarto ; Demys, Royals, Imperials,\\nDraft, Brief, and Copying Paper.\\n\\nMetallic and other Memorandum Books ;\\n\\nEnvelope Cases; Fancy, Initial, and Motto Wafers;\\nEmbossed and Plain Writing and Blotting Books, with\\nor without locks; M.S. Music Books; Quills and Pens\\nof excellent quality ; Steel Pens ; Sealirg Wax, Wafers,\\nPencils, Waiting Cases, Letter Files, Irivate Ledgers,\\nSlates, School Books, Inkstands, Ink, Patent Elastic\\nBands, &c, &c.\\n\\nWATER COLOURS, DRAWING BOOKS, AWD DRAWING\\n\\nMATERIALS OF EVER! DESCRIPTION.\\n\\nBOOKBINDING\\n\\nIn all it. branches.\\n\\nLedgers, Account Books, Day Book., Cash Books,\\n\\nJournal., Letter Book., Copying Booki, Bill Books,\\nWaste Book., &c, made to order, in evtry variety of\\nstyle, and of the best material..\\n\\nENGRAVING AND C^ER-PLATE PRINTING,\\nPamphlets, CaUlognes, Circular., Book-work, Address\\nCards, Posting Bill., Bill Headings, and every descrip-\\ntion ° f PRINTING,\\n\\nFxecuted on moderate terms, with neatness and despatch.\\n\\nPeriodical, and other Book, regularly supplied to\\n\\norder, weekly.\\n\\nOrder, and AdvertisemenU received for all the\\n\\nNew.paper.._^ mHiam Street> Blackburn,\\nh.rfl .1,0 i. published every Wedneeday morning, the\\nTHE BLACKBURN STANDARD, PRICE 4d.\\n\\nTO BE SOLD BY AUCTION,\\n\\nBY Mb. CHARNLEY,\\n\\nAt the house of Mrs. Ainswobth, the Anchor Inn,\\n\\nDarwen Street, in Blackburn, in the County of Lan-\\ncaster, on Wednesday, the Sixteenth day of Janu-\\naey, 1800, the sale to commence at Six o\\'clock in\\nthe Evening; subject to such Conditions as shall be\\nthen and there produced, and in the following or\\nsuch other Lots as may be agreed upon at the time\\nof sale ;\\n\\nLOT 1.\\n\\nTHE Fee-Simple and Inheritance of and in all that\\n\\nMESSUAGE or DWELLING-HOUSE, situate\\n\\non the north side of Union Street, within Blackburn\\naforesaid, and numbered 23, now in the occupation of\\nJames Slakeland, with the CELLAR DWELLING un-\\nderneath, occupied by Robert Duxbury.\\n\\nThese premises occupy a site of 105 square yards,\\n\\nand will be sold subject to the perpetual Yearly\\nFee Farm Rent of £1 10s. 9id\\n\\nt , I\\n\\nH o t^7 AU thoBe TWO M£ SBUAGES or DWEL-\\n\\nLING-HOUSES, situate on the south side of Cleaver\\nStreet, in Blackburn aforesaid, one fronting Cleaver\\nStreet aforesaid, in the occupation of Richard Parkin-\\nson, and tbe other at the back thereof, in tbe occupa-\\ntion of William Edmundson.\\n\\nThese premises occupy a site of 112 J square yards,\\n\\nand are held for the residue of a term of 999\\nyears, created in the year 1817, subject to the\\nyearly ground rent of £1 3>. s|d.\\n\\nLot 3 — All those T**ff MESSUAGES or DWEL-\\n\\nLING-HOUSES, alsa aitaate.ym the south aide of\\nCleaver Street aforesaid, and adjoining Lot 2, one front-\\ning Cleaver Street, and in the occupation of James\\nJohnson, and the other at the back thereof, in the oc-\\npation of George Wright, together with the CELLAR\\nDWELLING under the last-mentioned Dwelling-\\nHouse, in the occupation of John Ellison.\\n\\nThese premises occupy a site of 115 square yards,\\n\\nand are held for the residue of the aforesaid term\\nof 999 years, created in the year 1817, subject to\\nthe yearly ground rent of £1 3s. ll|d.\\nLot 4,— A1l those THREE MESSUAGES or\\n\\nDWELLING-HOUSES, and PREMISES, situate and\\nbeing in the township of Ramsgreave, in the said\\nCounty, erected and built upon land formerly part of\\nRamsgreave Hall Farm, now or late in the several\\npossessions of John Cumpstey, Joseph Fielding, and\\nJames Cunningham, and at present occupied as a Re-\\ntail Beer House.\\n\\nThese premises occupy a site of 296 square yards,\\n\\nare held for the residue of a recently created term\\nof 999 years, and will be sold subject to the small\\nyearly rent of £1 2s. 6d.. payable to the Heirs and\\nAssigns of one Thomas Derbyshire.\\n\\nThe tenants will show the premises, and for further\\n\\nparticulars, as to Lot 4, application may be made at\\nthe Office of Mr. LAW, Solicitor, Accrington ; and as\\nto Lots 1, 2, and 3, at the Office of Mr. SWIFT, Soli-\\ncitor, Blackburn.\\n\\nBlackburn, December 14th, 1849.\\n\\nWESTERN LIFE ASSURANCE AND\\n\\nANNUITY SOCIETY,\\n\\n3, PARLIAMENT STREET, LONDON.\\n\\nBANKERS.\\n\\nMessrs. Cocks, Biddulph, and Co., Charing Cross.\\n\\nVAL.UABL.E NEW PRINCIPLE.\\n\\nPAYMENT of Premiums may be occasionally omit-\\n\\nted without forfeiting the Policy, on a new and\\n\\nvaluable plan adopted by this Society only, as fully de-\\ntailed in the Prospectus.\\n\\nAttention is specially invited to the rates of Annuity-\\n\\ngranted to Old Lives, for which ample security is pro-\\nvided by the large capital of the Society.\\n\\nExample : — £loo cash paid down, purchases\\n\\nAn Annuity of £10 4 0 to a Male Life aged G<>\\\\ Payable\\n\\n— 12 3 1 _ 6-5 fas long\\n— 14 16 3 _ 70f as he\\n— 18 11 10 — 75 J lives.\\n\\nThe Annuities are payable Half-yearly; and the first\\n\\nhalf-year\\'s Annuity is paid six months after the pur-\\nchase-money is received. All expenses of the Annuity-\\ndeed are defrayed by the Society.\\n\\nEvery information respecting Policies of Assurance,\\n\\nthe amount of Fines for the renewal of Leases, Church\\nLeases, the value of Reversions, &c, can be obtained\\nat the Office, from\\n\\nA. SCRATCHLEY,\\n\\nActuary and Secretary,\\n\\nOr from JAS. BELL, Esq., Solicitor, Blackbnrn.\\n\\nMembers of Building Scri at *s,~i». London ©* iU%\\n\\nCountry, who are desirous of ascertaining whether the\\nAssociations they belong to are conducted upon sound\\nand equitable principles, or at present are in a safe po-\\nsition, can obtain, GRATIS, the necessary investigation\\npapers, and the correct form of the liability and asset\\naccount, which should be made out annually by tlieir\\nSociety, on applying personally, or by letter, with two\\npostage-stamps enclosed, to the Actuary, 3, Parliament\\nStreet, London.\\n\\nUNDER ROYAL PATRONAGE.\\n\\nPerfect Freedom from Cough in Ten Minutes\\n\\nafter Use,\\n\\nAND INSTANT RELIEF,\\n\\nAND A RAPID CURB\\n\\nOF ASTHMA AND CONSUMPTION,\\n\\nand all Disorders of the Breath and Lungs is insured by\\n\\nDr. LOCOCK\\'S PDLMONIC WAFERS.\\n\\nCures lit Lancaster.\\n\\nFrom Mr. G. Carruthers, Chymist, 7 and 8, New-street, Oct.\\n\\n10, 1837.\\n\\nGentlemen, — Having sold Dr. Locock\\'s Wafers from nearly\\n\\nthe commencement of their introduction, and having had the\\nmost varied and numerous opportunities of witnessing their\\npowerful effects, I do not think I should be discharging my duty\\nwere I longer to withhold my testimony to their astonishing\\neffects in this neighbourhood.\\n\\nIn allaying any irritation of the throat or chest, induced by\\n\\ncold, checking all disposition to coughing, and promoting com-\\nfortable and refreshing sleep, they are unequalled, without in\\nany instance affecting the head or general functions in the slight-\\nest degree. To aged persons troubled with an habitual cough,\\nattended with restlessness during the night, they are invaluable.\\nI have disposed of a considerable quantity to persons of all ages,\\nand in every situation of life, and I believe in every case their\\nuse has been attended with beneficial results.\\n\\n(Signed) GEO. CARRUTHERS.\\n\\nImportant to all who Sing.\\n\\nFrom S. Pearsall, Esq., Her Majesty\\'s Concerts, and Vicar\\n\\nChoral of Lichfield Cathedral. Licbfield, July 10, 1845.\\n\\nGentlemen, — A lady of distinction, having pointed out to me\\n\\nthe qualities of Dr. Locock\\'s Wafers, I was induced to make a\\ntrial of a box, and from this thai I am happy to give my testi-\\nmonial in their favor. I find by allowing a few of the Wafers\\n(taken in the course of the day) to gradually dissolve in the\\nmouth, my voice becomes bright and clear, and the tone full\\nand distinct. They are decidedly the most efficacious of any I\\nhave ever used. S. PEARSALL.\\n\\nThe particulars of many hundred cures may be had\\n\\nfrom every Agent throughout the Kingdom, aud on the\\nContinent.\\n\\nTo Singers and Public Speakers they are invaluable,\\n\\nas in two hours they remove all hoarseness, and increase\\nthe power and flexibility of the voice. They have a\\nmost pleasant taste.\\n\\nPrice Is. ljd., 2s. 9d., and lie. per box ; or sent by\\n\\npost for Is. 3d., 35., or 11». 6d., by DA SILVA & Co.,\\nNo. 1, Bride Lane, Fleet Street, London. Sold by all\\nMedicine Vendors.\\n\\nPROTECTED BY ROYAL LETTERS PATENT.\\n\\nDr. Locock\\'s Female Wafers.\\n\\nHA YE NO TASTE OF MEDICINE.\\n\\nAnd are the only remedy recommended to be taken by Ladies,\\nThey fortify the constitution at all periods of life, and in all\\nNervous Affections act like a Charm. They remove all obstruc-\\ntions, Heaviness, Fatigue on Slight Exertion, Palpitation ofthe\\nHeart, Lowness of Spirits, Weakness, and allay Pain.\\n\\nThey create Appetite, and remove Indigestion, Heatt-burn,\\n\\nWind, Head-aches, Giddiness, &c.\\n\\nIn Hysterical Diseases, a proper perseverance in the use of\\n\\nthis Medicine will be found to effect a Cure after all other means\\nhave failed.\\n\\n*** Full Directions are given with every box.\\nNote.— These Wafers do not contain any Mineral, and may\\n\\nbe taken either dissolved in water or whole.\\n\\nBEWARE OF IMITATIONS.\\n\\nThe very great celebrity which Dr. Locock\\'s Wa-\\n\\nfers have attained, has induced unprincipled persons to\\nprepare IMITATIONS, &c, which, from their worth-\\nless nature, disappoint the just expectations of the pur-\\nchaser, and injure the character of the Genuine Me-\\ndicine.\\n\\nIt is therefore necessary to observe that no Medicine\\n\\nis Genuine but \" WAFERS,\" and that outside every\\nvZaT\\' B ° X l 8 thC Goverment Stamp, in which are the\\n\\naoove^CauHon erB \"^ *^ ob9erVe *\"\\n\\nPrepared only b y the Proprietor\\'s Agents, DA SIL-\\n\\n-- 1W 2s\\' 9d an H c\\n\\nn aDe \\' Fleet St»et, London. Price\\n\\ncontat nearly C c of th Tbe 2 *\\' T^\\nfive of those at 2.73 d. BmaU Bile > and the * l 9\\' B °\" 8\\n\\nA HAPPY N E W YEAR!\\n\\nThe poor old year is dying fait,\\n\\nUpon his face the shadows fall ;\\n\\nHis lips are white, he breathes his la«r,\\n\\nAnd on hira soon will rest the pall ;\\n\\nBut why should we be filled with gloom\\n\\nWhen oneemore year has ceased to be\\n\\nNo, let it slumber in the tomb,\\n\\nAnd happier may the coming be !\\n\\nThere\\'s many a friend hath passed away,\\n\\nThat greeted last n.w year with smiles ;\\n\\nThere\\'s many a dream of future day,\\n\\nThat now the trusting heart beguiles:\\n\\nBut let us grieve not at the past,\\n\\nWe\\'il hope glad future days to see,\\n\\nAnd that the New Year aoming fast,\\n\\nMay happier than tiie last one be !\\n\\nThis useful lesson we\\'ve been taught,\\n\\nWithin the months now fled and gone,\\n\\nThat, if cheap clothing must be bought,\\n\\nFriend Hyam is exeell\\'d by none :\\n\\nThen patronize his famous mart,\\n\\nAnd very soon you\\'ll plainly see\\n\\nThat Hyam hath the magic art\\n\\nTo make the New Year happy be ! *\"P\\n\\nB. UTAH, Yin<mi. CLOTHIER, 26, jIARKET STREET, IANCfIESTER,\\n\\nMAKES NO ABATEMENT.\\n\\nHYAM never makes any abatement; the lowest selling price is marked on every article, in plain figure*\\n__ . „ MONE 7 RETURNED.\\nHYAM returns the money if the articles do not please, even after articles are taken home.\\n\\nCLOSED EVERY SATURDAY UNTIL DUSK.\\n\\nHYAM S shop is always closed on Saturdays, until dusk, when it is open until twelve o\\'clock\\n\\nMARK THE FOLLOWING CAUTION.\\n\\nHYAM is obliged to caution tbe public, as there are several of the same business in Market-street; he, therefore, advises them,\\n\\nbefore they look at any article, or make any purchase, to Inquire if they are in Hyam\\'s shop, as frequent mistakes have\\noccurred, and severe disappointments.\\n\\nHYAM\\'S BRANCH ESTABLISHMENTS.\\n\\nLondon,— B6, Oxford-street. Leeds,— l 9, Briggate.\\nLondon,— 36, Gracechurch-street. Bristol,— 42, Wine street.\\nBirmingham,— 23, New-street. Bristol,— l 7, Union-street.\\nLiverpool— 63 and 65, Lord-street Hull, — 17, Market-place.\\nGlasgow,— lB. Argyle-street. Exeter, — 196, High-street.\\n\\nEXPEDITION IN MAKING GARMENTS TO ORDER.\\n\\nHYAM makes to order every description of clothing, from the newest fabrics, and in the most prevailing styles, at the shortest\\n\\npossible notice.\\n\\nNOTE THE NAME, THE STREET, AND THE NUMBER.\\n\\nHYAM, National Tailor, Clothier, Hatter, and Outfitter, 26, Market Street, Mancliester.\\n\\nLIST OF PRICES FOR 1849.\\n\\nFor Thick Over.Coats. For Youths\\' and Boys\\' Over- For General Clothing\\n\\nCoats.\\n\\nThe Ram Coat, maae from Pilot) c A capital School Coat, lined with) Suit of Black, complete o G n\\n\\nCloth ) HorseCloth f b B Cloth Shooting Coats 10 6\\n\\nThe Sleet Coat, made from Double) i A Codrington, made from Pilot ) Cloth Vests i •\\n\\n\"\"\\'••■cioth ; IG 6 ; cioth }s 6 Dress coa,s,\\'fVorn\\':::::::::::: ,\\' I\\n\\nThe Frost Coat, made from Win-) fi A Chesterfield, made from Bea-S Surtout ditto, from .... 17 6\\n\\nter Cloth ; ...f ver Cloth j* 10 G Velveteen Shooting Jackets. ... io 6\\n\\nThe Snow Coat, made from \\\\ien-) A Sac, made from Vienna) , , r Black Cloth Waistcoats 3 i\\n\\n\" aCloth I\" Cloth j\" 12 6 Fancy Tartan (Utto .\\n\\nThe Hail Coat, made from Satarra) 3Q Q < A Paletot, made from a variety \\\\ Plain or Fancy Satin ditto 4 6\\n\\nCo \" i of new materials j\" lj ° Moleskin or Cord ditto 1 9\\n\\nThe Fog Sac, made from Devon- 1 „ A Napier, made from Witney ), Q . Trousers, Black Cloth. . . 7 6\\n\\nshire Kersey f I Cloth J• 8 <• Fancy Doeskin Trousers ..... . 6 6\\n\\nThe Boating Jacket, made from) I A Reefer, made from Dread- ) . , Imitation Cloth ditto 3 6\\n\\nWitney Cloth | j nought Cloth j\" 5 fi Moleskin or Cord ditto \\x84;\\n\\nThe Millions Coat, made from) A Cloak, made from Camlet) , „ Ditto ditto Jackets .. 3 9\\n\\n* caver J Cloth j\" * 0 Flannel ditw , D\\n\\nThe Guardian Coat, can only be) I A Cloak, made from Superfine) , Holland Blouses . 2 6\\n\\nhad at Hyam\\'s y U\\n\\n: Cloth j* l 0 6 Boys\\' Fancy CoaU ........... . \\\\ 0\\ni Mens\\' Fancy Snooting Coats. .. . 3 .\\n\\nBOYS\\' CLOTHITtG WONDERFULLY CHEAP.\\n\\nVALUABLE COLLIERY IN STANDISH,\\n\\nAND COAL YARD IN PRESTON.\\n\\nTO BE SOLD BY AUCTION,\\n\\n(Without Reserve,)\\n\\nAt the house of Mr. Whiteside, the Eagle and Child\\n\\nInn, in Wigan, on Monday, the Twenty-eighth day\\nof Januaby, 18.30, at Six o\\'clock in the Evening;\\nsubject to Conditions then and there to be produced ;\\n4 LL that Valuable COLLIERY, now at work, in\\nJ\\\\. Standish aforesaid, called \" BRADLEY COL-\\nLIERY,\" comprising the Yard Mine, the Four-feet\\nMine, and the Seven-feet Mine, under 4.5 Cheshire\\nAcres of Land, belonging to Richard Fisher, of Bradley\\nHall.\\n\\nAnd also, ALL THE PLANT, belonging to the said\\nColliery, consisting of one excellent PUMPING EN-\\nGINE, with L legs ; Boiler, Pendulums, Slide Rods,\\n■ itej^ulat^T^ \"W utminje Hs,i rt-ls, \"lutiijj irees, -Capstan \\'\\nand Rope, and other Apparatus for lifting water.\\nTWO WINDING ENGINES, Boilers, Fly Wheels,\\nVerticals, Ropes, Head Stocks, Pullies, Guide Rods,\\nand all other Articles used for raising Coal. Also,\\nabout 480 Yards of Iron Rails, with Sleepers, Chairs,\\n&c, laid from the Engine Pit to the North Union Rail-\\nway ; and upwards of 3,000 Yards of Iron Tram Rails,\\nwith Sleepers, now in use. An excellent Weighing\\nMachine ; one Turn Table ; 22 Iron Plates, four feet\\nsquare ; and upwards of 60 Trams and Colliery Bask-\\nets, Chains, and all Colliery Implements required at a\\nColliery for raising large quantities of Coal.\\n\\nThe Mines, which bave all been opened into, and\\n\\npart worked, are held for the residue of a Term of\\n50 Years, from the 4th February, 1843, subject\\nto a certain Rent of £400 per annum, and the pur-\\nchaser will have the advantage of the over-paid\\nKent, which amounts to a considerable sum.\\n\\nAnd also, ail that COAL YARD, on the East Bank\\n\\nof the Lancaster Canal, in Preston, as now occupied\\nfor the purposes of the said Colliery, with the right of\\nusing the Branch Railway from and to the North Union\\nRailway, held for the residue of a Term of 21 Years,\\nfrom the Ist April, 1844, subject to the yearly rent of\\n£84 19s.\\n\\nAnd also, the Vendors\\' Interest in all those LIME\\n\\nKILNS, in Preston aforesaid, called \"THE GREEN\\nBANK LIME KILNS.\"\\n\\nThe FIXTURES and STOCK at the Preston Coal\\n\\nYard, consisting of Waggons, Horses, Carts, Geers,\\nBeats, Rails, Sleepers, Turn Table, Tipping Machine,\\nShed, &c, &c, will be sold by auction, on the premises,\\non Monday, the 4th February, 1850, at Twelve o\\'clock\\nat Noon, unless the purchaser of the Yard shall agree lo\\ntake them at a valuation.\\n\\nColliery Working Plans of the Mines, from the com-\\n\\nmencement of the Term, to the Ist December, 184J),\\nmay be seen, and orders to view, and further particu-\\nlars had, on application to Mr. JAMES WHITTLE,\\nColliery Viewer, Charnock Richard, near Chorley ; or\\nto Messrs. CATTERALL and CATTERALL, Solici-\\ntors, Preston.\\n\\nFOR STOPPING DECAYED TEETH.\\n\\nPATRONIZED BY HER MAJESTY, THE QUEEN,\\n\\nHer Majesty the Queen Dowager,\\nHis Royal Highness Prince Albert,\\nHer Royal Highness the Duchess of Kent,\\nHis Grace the Archbishop of Canterbury,\\n\\nAnd nearly all the Nobility, the Bishops and the Clergy.\\n\\nMR. HOWARDS SUCCEDANEUM,\\n\\nFOR filling Decayed Teeth, however large the cavity.\\n\\nIt is superior to anything ever before used, as it is\\n\\nplaced in the tooth in a soft state, without any pressure\\nor pain, and in a short time becomes as hard as the\\nenamel, and will remain firm in the tooth for many years,\\nrendering extraction unnecessary. It arrests all further\\nprogress of decay, and renders them again useful in\\nmastication. All persons can use the SUCCEDANEUM\\nTHEMSELVES WITH EASE, as full directions are\\nenclosed.\\n\\nPrepared only by THOMAS HOWARD, Surgeon-\\n\\nDentist to his Grace the Archbishop of Canterbury, 17,\\nGeorge-street, Hanover-square, London, who will send\\nthe Succedaneum free by post to any part of the King-\\ndom. Price 2s. 6d. Observe: the Succedaneum is sold\\nin sealed packets, with full directions Jor use enclosed,\\nand the Signature of THOMAS HOWARD, in Red\\nInk on the outside of the wrapper. Sold by the follow-\\ning agents, Mr. SLATER, and Mr. PARKINSON,\\nDruggists, Blackburn, and all Chymists and Medicine\\nVenders in the kingdom. Sold Wholesale by Barclay\\nand Sons, Sutton and Co., and Mr. Edwards, London.\\n\\nLOSS OF TEETH.\\n\\nA very curious invention connected with Dental Surgery, has\\nbeen introduced by Mr. HOWARD, it is the introduction of an\\nENTIRELY NEW DESCRIPTION of ARTIFICIAL TEETH,\\nfixed without springs, wires, or ligatures. They so perfectly\\nresemble natural teeth, as not to be distinguished from the ori-\\nginals, by the closest observer. They will never change colour\\nor decay, and will be found superior to any teeth ever before\\nused. This method does not require the extraction of roots, or\\nany painful operation, and will support and preserve the teeth\\nthat are loose, and is guaranteed to restore articulation and mas-\\ntication. The invention deserves the notice of the scientific,\\nand is of importance to many persons, and those who are inte-\\nrested in it, cannot do better than avail themselves of Mr. How-\\naril\\'s skill, as a Dentist. And in order that his improvements\\nmay be within the reach of the host economical, he will\\ncontinue the same moderate charges. Mr. Howard, Surgeon-\\nDentist, 17, George Street, Hanover Square, London. At home\\nfrom eleven till four.\\n\\nHis new method of fixing Artificial Teeth has obtained the\\n\\napprobation and recommendation of the following eminent\\nPhysicians and Surgeons.\\n\\nSir James Clark, Bart, Physician to her Majesty.\\nDr Locock, Physician Accoucheur to her Majesty.\\nSir B C. Brodie, Bart, Sergeant Surgeon to her Majesty.\\nThe late Sir A. Cooper, Bart, Serg. Surgeon to her Majesty.\\nSir David Davies, Physician to her Majesty the Uueen Dowager\\nDr Merriman, Physician to her R. H. the Duchess of Kent.\\nAnd numerous other members of the medical profession .\\nThose interested in the subject will find this statement of\\n\\ntheir superiority overall others, to be entirely and scrupulously\\ncorrect.\\n\\nYOU MAY BE CUBED YET.\\n\\nHOLLIHUV S OIMTHE-.T,\\n\\nCure of Rheumatism and Rheumatic\\n\\nGout.\\n\\nExtract of a Letter from Mr. Thomas Brunton, Landlord of the\\n\\nWaterloo Tavern, Coatham, Yorkshire, late of lite Life Guards,\\ndated September 2S.A, 1 843.\\n\\nTo Professor Holloway.\\nS IR . — For a long time I was a Martyr to Rheumatism and\\n\\nRheumatic Gout, and for ten weeks previous to using your\\n\\nmedicines I was so bad as not to be able to walk. I had tried\\ndoctoring and medicines of every kind, but all to no avail, in-\\ndeed I daily got worse, and felt that I must shortly die. From\\nseeing your remedies advertised in the paper I take in, I thought\\nI would give them a trial. I did so. I rubbed the Ointment\\nin as directed, and kept cabbage leaves to the parts thickly-\\nspread with it, and took the Pills night and, morning. In three\\nweeks 1 was enabled to walk about for an hour or two in the\\nTtay-wtth a stfck, anrTfn sevVrf -vreeYs f mold gw arrywTiere wtrri-\\nout one. lam now, by the blessing of God and your medicines,\\nquite well, and have been attending to my business for more\\nthan seven months, without any symptoms of the return of my\\nold complaint.\\n\\nBesides my case of Rheumatic Gout, I have lately had proof\\n\\nthat your Pills and Ointment will heal any old wound or ulcer,\\nas a married woman, living near me, had had a bad leg for four\\nyears, which no one could cure, and I gave her some of your\\nPills and Ointment, which soundly healed it when nothing else\\nwould do it. For your information I had the honour to serve\\nmy country for twenty-live years in the first regiment of Life\\nGuards, and was eighteen years a Corporal. I was two years in\\nthe Peninsula War, and was at the Battle of Waterloo. I was\\ndischarged with a pension on the 2nd September, 1833. The\\nCommanding Officer at the time, was Colonel Lygon, who is\\nnow a General. I belonged to the troop of Captain the Honor-\\nable Henry Baring.\\n\\n(Signed) THOMAS BRUNTON.\\n\\nCure of a Bad Lear of Twenty. one Years\\'\\n\\nStanding.\\n\\nExtract of a Letter from Mr. Andrew Brack, Blacksmith, Eye-\\n\\nmouth, near Berwick, dated the 10.A of August, 1848.\\n\\nTo Professor Holloway.\\n\\nSir, — With pleasure and gratitude I have to inform you that\\n\\nafter suffering for twenty-one years with a bad leg, which yielded\\nto no kind of treatment, although I consulted, at different times,\\nevery medical man of eminence in this part of the Country, but\\nall to no purpose. I was frequently unable to work ; and the\\npain and agony 1 often endured no one can tell. My leg is now\\nas sound as ever it was in my life by means of your Pills and\\nOintment, which I purchased from Mr. I. Davidson, Druggist,\\nBerwick-upon-Tweed, who knows my case well, and who will,\\nI am sure, be happy to certify with me, if necessary, as to the\\ntruth of this wonderful cure.\\n\\n(Signed) ANDREW BRACK.\\n\\nAmputation of Two Toes prevented.\\n\\nExtract of a Letter from Mr. Oliver Smith Jenkins, dated Falkirk,\\n\\nAugust 13/ A, 1348.\\n\\nTo Professor Holloway.\\n\\nSir, — I was superintending about six months ago, the erec-\\n\\ntion of one of our Railway Bridges, and by the fall of a large\\nstone my right foot was seriously bruised, which ultimately got\\nso bad, that I was advised to go to Edinburgh to consult some\\nof the eminent Surgeons, which I did, and was told that in\\norder to save my foot, two of ray toes must be taken off. In\\ndispair ; I returned home to impart the melancholy news to my\\nwife, intending to submit to the operation, it was then a thought\\nstruck rae to try your valuable Ointment and Pills, which I did,\\nand was by their means in three weeks enabled to resume my\\nusual occupation, and at this time my toes are perfectly cured.\\n\\nl.Signed) OLIVER SMITH JENKINS.\\n\\nSold by the Proprietor, 244, Strand, (near Temple Bar),\\n\\nLondon, and by all respectable Venders of Patent Medicines\\nthroughout the civilized World, in Pots and Boxes, Is. lid.,\\n2s. t»d., 4s. Cd., lis., 225., and 335. each. There is a very\\nconsiderable saving by taking the larger sizes.\\n\\nN.B. — Directions for the guidance of Patients are affixed to\\n\\neach Pot and Box.\\n\\nDAKWEN MECHANICS\\' INSTITTJTION.\\n\\nTHE SIXTH ANNUAL SOIREE will take place on MONDAY EVENING, Jascabt 2lst, 1850, in the\\n\\nBooms of the Institution.\\n\\nWM. ECCLES, Esq., of Blcakburn, in the Chair.\\nJAS. HEYWOOD, Esq , M.P.\\nJAS. PILKINGTON, Esq , M.P.\\nARCHIBALD PRENTICE, Esq., of Manchester.\\n\\nThe Herds. J O. PICTON, of Halliwell, W. WALTERS, and E. D. RENDELL, of Preston; WM. DOB-\\nSON, and JNO. LIVF.SEY, E^qs., of Preston, with other Gentlemen, have kindly promised to be present.\\n\\nSOUTHWORTH\\'S QUADRILLE BAND will occupy the Orchestra. Dancing will commence\\n\\nat the close of the Meeting.\\n\\nTickets for the Soiree — Non members, Is. 6d ; for the Soiree and Dance — Ladies\\' 2». ; Gentlemen\\'s Es.\\n\\neach; which may be had of Mr. GREGSON, and Mrs. GREENWOOD, Booksellers, Darwen; and at the\\nStandard Office, Blackburn.\\n\\nTea on the Table at Six o\\'clock.\\n\\nSpecial Trains will leave Darwen Station for Bolton and BUckburn, at the close of the Meeting, and for\\n\\nBlackburn only, at the close of the Dance, at half-past Two o\\'clock a.m.\\n\\nW. SNAPE, G. H. OPENSHAW, Hon. Sees.\\n\\nACCRINGTON CRICEETERS\\' BALL.\"\\n\\nA BALL will be held in the ASSEMBLY ROOM, Hargreaves\\' Arms Hotel, Accrington, on THURBDAY,\\n\\nthe 17th day of January, 1850.\\n\\nlafcj yatronrssrs.\\n\\nMRS. PEEL. MRS. STEINER,\\nMRS. ROBERT HARGREAVES, MRS BENJAMIN HARGREAVES,\\nMRS. JONATHAN HARGREAVES, MRS. WORSLEY.\\n\\n\"patrons.\\n\\nJONATHAN PEEL. ESQ, FREDERICK STEINER, ESQ..\\nROBERT HARGitEAVES, ESQ, BENJAMIN HARGREAVES, ESQ.,\\nJONATHAN HARGREAVES, ESQ., JAMES WORSLEY, ESQ.\\n\\nN.B.— AN EFFICENT QUADRILLE BAND WILL BE IN ATTENDANCE.\\n\\n*0* Dancing to commence at Eight o\\'clock.\\n\\nLndies\\' Tickets, 55. -, Gentlemeu\\'s 10» — to be had at the POST OFFICE, Accrington; or at the AS-\\n\\nSEMBLY ROOM.\\n\\nBLACKBURX SAVINGS\\' BANK.\\n\\nThe Nineteenth Annual Report.— The Year ending 20th November, 1849.\\n\\nTHE Officers of this Institution congratulate the Trustees and Managers npon the prosperous statement of\\n\\ntheir funds, now produced, which clearly proves the usefulness of the Bank, and at the same time shows the\\n\\nwillingness of that class of persona for whom such Institutions were charitably established, to avail themselves\\nof its advantages.\\n\\nUpon refe.ence to the Statement, it will be perceived that during the past year, an actual increase of\\n\\n£4,520 7*. 6d. has taken place.\\n\\nThe number of new Depositors, during the past year, as shewn in the statistical portion of the Report, is\\n\\n364 ; of wbich number 250 could write, and 114 could not write. The number of weavers included iv the 364\\nnew depositors, is 51 males and 21 females, making a total of 72 weaver* only. The actual increase of deposi-\\ntors, In the year ending 20th November, 1849, is 200.\\n\\nThe Officers have iilso the pleasure to present a Statement shewing the continued prosperity of the Bank\\n\\nfrom the 20th November to 29th December, 1849, (both days inclusive,) a period of six weeks, viz :\\n\\n£. s. D.\\n\\nThe Receipts during the above period, including 66 new Depositors, amount to 2,281 3 6\\nThe amount Withdrawn do. 1,134 19 2\\n\\nIncrease in the Bank Funds during the six weeks 1,146 4 4\\n\\nJanuary sth, 1850.\\n\\nDUPLICATE of the GENERAL STATEMENT of the Fund* ..f this Savings\\' Bank, filled up pursuant to\\n\\n9th Geo. 4, cap. 92, sec. 4C, and Returned to the National Debt Office, within Nine Weeks after the 20th\\nNovember, 1849, pursuant to 7th aud 8 h Victoria, cap. 83, sec. 13.\\n\\nDrS. The Trustees of the Saving*\\' Bank established at Blackburn, in the County of Lancaster. CITS.\\n\\nCHARGE! T s. d. I DISCHAHGE. J. s. d.\\n\\nTo Balnnce due Nov. 20th, 1 including fßy Sums actually paid to Depositors in\\n\\nInterest, as pei last return 51,51 l 19 5 » Money, including Interest, within\\n\\nci rTo Sums received of Depositors within r the year, ending Nov. 2, 1849 10,608 12 0\\noc j the year ending Nov. 20, 1819.. .. 13,648 17 8 . By Sums actually paid for Management\\n- \\' > within the said year, viz : —\\n£I To Interest on monies invested with Z «5ni tt .- s /Actuary\". 75 0 0\\nSE the Commissionersfor the reduction 5 \" lle \\\\Agent .... 75 0 0\\n£ of the National Debt, viz : — = Rent and Taxes 10 10 9\\ng I I Pnntingand Stationery.. 16 9 6\\ntei Receipt B. dated May 21,1619 821 8 9 E \\' Sundries, viz :—\\n.*5 ] \"§ Gas, Ironmongery, Paint-\\n\\'s I Receipt B. dated Nov. 21, 1819 656 7 8 * ing, Glazing, Barris-\\n* j I ter\\'s Fee, &c 9 0 5\\n«I To Interest on Sums drawn for by the > Lighting Fires, Coke,\\n>• I Trustees upon tbe Commissioners g Cleaning the Bank,\\n\\nwithin tbe said year 15 15 2 = Postages, &c 5 17 0\\n\\n£ ITo Sale of Books, &c 6 S 1 \" I Total Management 192 2 8\\n\\n(By Balance on the General\\n\\nAccount invested with\\nthe Commissioners for\\nthe Reduction of the\\nNational Debt, includ-\\n\\n-; ing Interest, to Nov.\\n3 20, 1849 51,771 12 1\\n\"* Do. on account of\\n/ separate surplus fund\\n2_ invested with the sad\\n- 1 Commissioners 650 0 0\\n5 -j Do. in the bands of\\n~ I A. B. the Treasurer.. 960 4 9\\n3 j Which fact is hereby certi-\\n?j fied by me\\n= Do. in the hands of\\n■i C. D. tne Agent .... 1 19 7 (A)\\n\"A Which fact 16 hereby cer- 56,383 16 6\\n\\ntified by me\\n\\n£67,184 11 1\\n\\n£67,184 11 1 j Signed A. B.Samuei Brooks, Treasurer.\\n\\nI I C. D. Thomas Axexxsov, Agent.\\n\\nTHE RATE OF ANNUAL INTEREST ALLOWED TO THE DEPOSITORS IS & 18s. id. PER CENT.\\n\\nNames of the Treasurer snd Officers who have given Security. — Every Bond must be entered into with the Comp-\\n\\ntroller General of the National Debt office for the time being, and be deposited with the Commissioners for the Reduction\\nof tbe National Debt.\\n\\n\"Name Officer. Amount of Security. In whose hands the Bonds are deposited.\\n\\nSAMUEL BROOKS. Esq. Treasurer. £1000. The Commissioners for the\\nTHOMAS ATKINSON. Agent. £200. Reduction of the\\nWILLIAM HENBY -MORRICE. Actuary. £200. National Debt.\\n\\n. . . . L ....\\n\\nThe aforegoing Account is accompanied by the following Statement.\\n\\n_ £. 8. D.\\nThe Balance due on the 20th November, ISIP, brought forward 66,383 16 5 (A)\\n777 Depositors whose respective balances on the 2oth Nov., 1849, (including Inte-\\n\\nrest ) did not exceed £20 6,165 1 6\\n\\n*>13 above £20 and not exceeding £50 .. .. 16,H40 14 7\\n189 50 and not exceeding 100 .. ..13,479 111\\n\\n.... 100 and not exceeding 150 .. .. 6,704 11 7\\n\\n22 160 and not exceeding 200 .. .. 8,790 10 6\\n\\niat»B 46,160 0 0\\n\\n8 Charitable Societies .... .. .. 715 19 11\\n73 Friendly Societies .. .. 8,423 19 11\\n\\n1674 Total number of Accounts .. ..55,619 19 10\\n\\nBalance invested with the Commissioners on the separate Surplus Fund Account,\\n\\non the 20th November, 1619, as below 650 0 0 66,269 19 10\\n\\nSurplus 113 16 7\\n\\nDeduct the portion thereof reserved to meet Current Expenses, as directed per 28rd sec. 9 Geo. 4, c. 92. 113 16 7\\n\\nActual Amount to be carried to the Separate Surplus Fund Account, at 20th November, 1849 0 0 0 (B^\\n\\nAuditors,— Messrs. THOMAS DUTTON, and JOHN POLDING, Junr.\\n\\nWe do hereby certify to ihe Commissioners for the Reduction of the National Debt, that tbe aforegoing is a true\\n\\naccount and that the above Actual Amount of Surplus Fund or Increased Stock ofthe sad Savings\\' Bank, (marked B)\\nis to be d.sc.iarged trom our General Account and carried to the \"Separate Surplus Fund Account,\" belonging to tbe\\nba d Bank, for the future purposes of the Institution, pursuant to 9 Geo. 4, c. 92, sec. 23. And we further Ceriifv that\\nnD a, Lcaie of tins Statement, accompanied by a List ofthe Trustees and Managers ofthe above Institution, is pubhclv\\naffiled ;n the Office or Place where the Deposits of the above Savings\\' Bank are usually received, for the information\\nof all persons mak ng Deposits therein.\\n\\nWitness our bauds th .s Fourth day of January, 1850\\n\\nMOSES SHARPLES,*! - ,\"\\nTHOMAS HART, , Witness, W. H. MORRICE, Actuary.\\n\\nTHE FOLLOWING FORMS ARE FILLED UP IN ORDER TO PROVE THE BALANCE DUE TO THE\\n\\nDEPOSITORS, (a) AND ALSO THE SURPLUS, STATED ABOVE.\\n\\n£. 8. E.\\n\\nAmount of Surplus reserved at 20th Nov., 1848, to meet Current Expense, in the year ending 20th Nov.,\\n\\n\\'6i9 92 7 0\\n\\nInterest allowed to the Trustees in the year, ending 2oth Nov., 1819, i^ ccc 9 l !\\' d^ ted 2\\n\\n, lst £ Ia y\\' Jg**- • £21 8 9\\n\\n_ ° (Receipt B. ditto 21st Nov,, 1819.. 856 7 5\\nDo. on the Principal Sums drawn for by the Trustees upon the Commissioners within the said year 15 15 2\\nSale of Books, etc •\\n\\n#<>> 3 3 1\\n\\n_ . £. 8. D. £1,791 1 5\\nDeduct the port on of the above Interest allowed by the Trustees to the Depositors for the\\n\\nFame year 2 2\\n\\nAlso, the expense of Management, rLtto 192 2 8\\n\\n1,677 4 10\\n\\nAnd there will remain a Surplus, as stated above .^ 118 16 7\\n\\n£.8. d. £. b. d\\'\\n\\nBalance dne to the Depositors on the 20th By Principal and Interest paid to the\\n\\nNov., 1848 51,099 12 6 Depositors in the year, ending 20th\\n\\nTo Principal Sums received from them in Nov., 1649 10,608 12 0\\n\\nthe year ending 2otn Nov., 1849 13,648 17 8 Balance due to tbem on the 20th Nov.,\\n\\nTo Interest allowed to them in tbe said 1849, as above 65,619 19 10\\n\\nyear, as before stated 1,485 2 2\\n\\n£66,228 11 10 i £00,228 11 10\\n\\nWitness our bands this Fourth day of January, 1850,\\n\\nMOSES SHARPLES, f „ /\\nTHOMAS HART, \\\\Trustees, Witness, W. H. MORRICE, Actuary.\\n\\nCLASSIFICATION OF DEPOSITORS.\\n\\n1 In. Dr. t ln \" De-\\n\\nMo. .-reui-e. cre..te No. <-rea»e create.\\n\\nApprentices 8 — I 2 M nors and Trustees, chiefly on behalf\\nArtizans Cab net Makers, and Joiners.. 72 18 — of Children 210 — 18\\nBook-keepers, Cleiks, Mauage.s, Over- Printers, Cutters, Colour- mixers, and\\n\\nlooker*, ..nd Teachers 81 24 | — Dvera 16 — 7\\nCurders.Diawers, Dressers, Frame work- Publican* and Shopkeepers .... \".!!... 5b 13 —\\n\\ners, Heald-kn.tte.s, P.ecers, Ware- Servants \\\\[[ 142 12 —\\nhousemen, Warpers, and Winders .. 102 12 — -^p nnere \\\\\\\\\\\\ [\\\\\\\\\\\\ 3<, 1 —\\n\\nDressmakeif, Mill uere, Shopmen, Shop- Weavers .!.!.!....! Sll 71 —\\n\\nwomen, aud Tailors 73 9 — vVidows 3:< 9 —\\n\\nFarmers 97 4 — VI iscellaneous, not otherwise described!! l-*9 15 —\\nFlaggers, Slaters, Masons, Plasterers Charitable Soc:eties 6 — —\\n\\nPaviors. Labourers, Quarnmen, Col- friendly Societies 73 — 1\\nLets, and Carters 7? 8 —\\n\\nLaundresses, Charwomen, and House- 1674 228 23\\n\\nkeepers 46 1 j —\\nMechanics, Millwrights, Moulders, ant\\n\\nSmiths 67 26 —\\n\\nThe number of new Depositors during tbe Year is 364 ; of which number 250 could write, and 114 could not write.\\n\\nTbe number of Weavers included in the 364 new depositors, is 01 males and 21 females, making a total of 72 weavers\\nonly. The actual increase of Depositors in the Year ending 20th November, 1849, is 200.\\n\\nOBSERVE.\\n\\n\"Every Depositor shall, once in each year, tbe firstweek in January, if possible, cause his Book to be produced at\\n\\nthe Bank for the purpose of being examined.\\'\\' — 7 & 8 Vie. cap. 83, s. 6.\\n\\n... . - j\\n\\nDeposits from one shilling to thirty ponds may be received at once,— but not more than thirty pounds can be received\\n\\nfrom t.ne Depositor in one year. \\x84 . . _ _..„ ....... .«\\n\\nThe Bank, in Clayton Street, is open evert/ Saturday, for transaction of business, from 2 Ult 5 0 clock tn the AjleT\\'\\n\\nnoon, when Copies of the Rules and Regulations may be had on application.\\n\\nMR. LLOYD.\\n\\nRESPECTFULLY announces that he has com-\\n\\nmenced the business of\\nAccountant, Referee, and Auditor,\\nGeneral and Commission Agent.\\n\\nHaving had cousiderableexperience in the above depart-\\nments ot business during tne last twenty-five years, und\\nhating given uniform satisfaction to all parties who\\nhave entrusted their affairs to his management, Mr.\\nLlo^d hopes to obtain that patronage in Blackburn\\nwhich it will be his earnest desire to merit.\\n\\n99 Kin* Stree\\', Blackburn.\\n\\nEDUCATION.\\n\\nMR. ATKINSON\\n\\nPURPOSES to re-open his CLASSICAL and COM-\\n\\nMERCIAL ACADEMY, No. 13, Frauce Street,\\n\\n011 Wednesday, the lti\\'.n instant.\\n\\nBlackburn, January Ist, 1850.\\n\\nEDUCATION.\\n\\nMISS SUSAN ATKINSON\\n\\nBEGS to announce that she intends to open, at No.\\n\\n7, James Street, on Wednesday, January 23rd,\\n\\na SEMINARY, for Hie Instruction of v limited num-\\nber of Juvenile Pupils, in the Elementary Branches of\\nEducation.\\n\\nBlackburn, January Ist, 1850.\\n\\nGood and Useful Household Fumitu, and\\n\\nVarious Effects,\\n\\nREMOVED FOR CONVENIENCE OF SALE.\\n\\nMR. W.TI. SALISBURY\\n\\nWILL SELL BY AUCTION,\\n\\n(WITUOL\\'T RKSERVE,;\\n\\nOn Monday, Januahy Fouutkenth, 1850, at his Auc-\\n\\ntion UoOH, adjoining the Royal Hotel, in King-street,\\nBlackburn, bale to commence at One o\\'clock in the\\nAfternoon prompt ;\\n\\\\ Quantity of good and useful HOUSEHOLD\\nXX. FURNITURE, removed for positive sale, and will\\nbe found to comprise capital mahogany Sofa, with loose\\ncushions aud pillows; eight-days\\' Clock, iv mahogany\\ncase; two Cnests of nialiuganv Drawers; mahogany\\nChiffonier, with carved back ; mahogany Card Tables ;\\nset of mahogany Chairs; excellent oak Writing Desk,\\nand Bookcase over do. with folding doors; Chimney\\nGlass, in rosewood frame; Dressing Glasses; two\\nChests of painted Drawers; bedroom Chairs; good\\nPost and Camp Bedsteads, with moreen and print\\nhangings ; Window Curtains ; four Feather Beds,\\nbolsters, aud pillows : Blanketing, Bedside and Stairs\\'\\nCarpeting, Kitchen Dreiser, Tables, Chairs, Requisites,\\nand Utensils.\\n\\nTo be viewed on the Morning of sale.\\nFurther information may be had from the AUC-\\n\\nTIONEER, at Lis Office, in Limbriok, Blackburn.\\n\\nHighfleld Cottage, near the Canal, at Grim-\\n\\nshaw Park, in Blackburn.\\n\\nSALE OF VERY ELEGANT\\n\\nMODERN HOUSEHOLD FURNITURE,\\n\\nIn most beautiful Condition, brilliant plate Chimney\\n\\nGlass in massive gilt frame, splendid and powerlul\\ntoned 6J octave Cottage Piano Forte in rich Spanish\\nmahogany case, complete suite 0 f Spanish mahogany\\nFurniture, a capital and elegant assortment of Bed-\\nchamber Furniture, strong silver plated with silver\\nedges Breakfast and Tea Services, a few choice\\nAnicles of silver plate richly gilt China, fourteen\\nday\\'s Clock upon stand under glass shade, a few\\nchoice Paintings in gilt frames, capital Engravings in\\nrosewood and gilt frames glazed, Kitchen Requisites,\\nUtensils, and other valuable and miscellaneous Effects,\\nthe Property of the late Mr. Benjamin Bolton.\\n\\nMR. WM. SALISUURY\\n\\nBESPECTri\\'LLV ANNOUNCES THAT HK WILL\\n\\nSELL BY AUCTION,\\n\\nWITUOCT RKsERVK,\\n\\nOn Thursday, the Thiuty-fihst of January, and\\n\\nFkidav, the FiasTof Fkbuuaky, 1850, at High Field\\nHouse, near the Canal, ut Grimshaw Park, in Black-\\nburn ;\\n\\nr |\\' , HE entire of the valuable and very excellent\\nX FURNITURE and EFFECTS, more desciipiive\\nparticulars of which will be uuiiuuuced in future ad-\\nvertisements.\\n\\nCatalogues ure in course of preparation, and may be\\n\\nobtained piior to the Sale, on application t.. tne ALC-\\nTIONEER, at his Office, in Li ..brick, Blackburn.\\n\\nAuction Room, adjoining the Royal Hotel,\\n\\nin Blackburn.\\n\\nUnreserved Sale of very elegant and modern Household\\n\\nFurniture in capital condition, noble and briiliam\\nplate Chimney Glass of large dimensions, hue move-\\nment 14 da_>\\'s Clock under glass sli.de, capital\\nmahogany Furniture, excellent Bedchamber Furni-\\nture, a tew choice Paintings, several fine Engravings,\\nframed and glazed, Kitchen requisites, and numerous\\nmiscellaneous Effects, 011 TulsDay, the TvfKNTY-\\nslcod of Januahy, 1850, at his Room, adjoining the\\nRoyal Hotel, iv King-street, Blackburn.\\n\\nMR. WM. SALISBURY\\n\\nBtOS TO ANNOUNCE THAT HE WILL\\n\\nSELL BY AUCTION,\\n\\n( Without any Reserve),\\n\\nTHE entire Valuable FURNITURE and EFFECTS,\\n\\nremoved for the greater convenience of Sale, des-\\n\\ncriptive particulars of which will be announced iv next\\nweek\\'s paperand by advertisements.\\n\\nFor farther information application to be made to\\n\\nMr. W. SALISBURY, at his Office, in Linibrick,\\nBlackburn.\\n\\n',\n",
       " 'newspaperID': 'NCBL0050',\n",
       " 'title': 'Multiple Classified ads',\n",
       " 'ocrConfidence': 9763,\n",
       " 'score': 2}"
      ]
     },
     "execution_count": 254,
     "metadata": {},
     "output_type": "execute_result"
    }
   ],
   "source": [
    "data['results']['docs'][0]"
   ]
  },
  {
   "cell_type": "code",
   "execution_count": 326,
   "metadata": {},
   "outputs": [
    {
     "data": {
      "text/plain": [
       "{'BNCN0002',\n",
       " 'BNCN0004',\n",
       " 'BNCN0005',\n",
       " 'BNCN0010',\n",
       " 'BNCN0013',\n",
       " 'BNCN0014',\n",
       " 'BNCN0015',\n",
       " 'BNCN0016',\n",
       " 'BNCN0017',\n",
       " 'BNCN0021',\n",
       " 'BNCN0024',\n",
       " 'BNCN0026',\n",
       " 'BNCN0027',\n",
       " 'BNCN0030',\n",
       " 'BNCN0035',\n",
       " 'BNCN0039',\n",
       " 'BNCN0049',\n",
       " 'BNCN0051',\n",
       " 'BNCN0053',\n",
       " 'BNCN0056',\n",
       " 'BNCN0063',\n",
       " 'BNCN0066',\n",
       " 'BNCN0070',\n",
       " 'BNCN0071',\n",
       " 'BNCN0073',\n",
       " 'BNCN0078',\n",
       " 'BNCN0079',\n",
       " 'BNCN0080',\n",
       " 'BNCN0081',\n",
       " 'BSNP0193',\n",
       " 'BSNP0196',\n",
       " 'BSNP0197',\n",
       " 'BSNP0205',\n",
       " 'BSNP0207',\n",
       " 'BSNP0218',\n",
       " 'BSNP0221',\n",
       " 'BSNP0224',\n",
       " 'BSNP0225',\n",
       " 'BSNP0226',\n",
       " 'BSNP0228',\n",
       " 'BSNP0237',\n",
       " 'BSNP0243',\n",
       " 'BSNP0244',\n",
       " 'BSNP0247',\n",
       " 'BSNP0249',\n",
       " 'BSNP0250',\n",
       " 'BSNP0257',\n",
       " 'BSNP0264',\n",
       " 'BSNP0265',\n",
       " 'BSNP0266',\n",
       " 'BSNP0267',\n",
       " 'BSNP0270',\n",
       " 'BSNP0284',\n",
       " 'BSNP0298',\n",
       " 'BSNP0309',\n",
       " 'BSNP0312',\n",
       " 'BSNP0315',\n",
       " 'BSNP0317',\n",
       " 'BSNP0328',\n",
       " 'BSNP0330',\n",
       " 'BSNP0336',\n",
       " 'BSNP0342',\n",
       " 'BSNP0343',\n",
       " 'BSNP0344',\n",
       " 'BSNP0350',\n",
       " 'BSNP0352',\n",
       " 'BSNP0358',\n",
       " 'BSNP0360',\n",
       " 'BSNP0361',\n",
       " 'BSNP0363',\n",
       " 'BSNP0366',\n",
       " 'BSNP0369',\n",
       " 'BSNP0384',\n",
       " 'BSNP0396',\n",
       " 'BSNP0398',\n",
       " 'BSNP0399',\n",
       " 'BSNP0400',\n",
       " 'BSNP0411',\n",
       " 'BSNP0418',\n",
       " 'BSNP0421',\n",
       " 'BSNP0425',\n",
       " 'BSNP0428',\n",
       " 'BSNP0438',\n",
       " 'BSNP0446',\n",
       " 'BSNP0447',\n",
       " 'BSNP0454',\n",
       " 'BSNP0457',\n",
       " 'BSNP0459',\n",
       " 'BSNP0461',\n",
       " 'BSNP0464',\n",
       " 'BSNP0474',\n",
       " 'BSNP0532',\n",
       " 'BSNP0534',\n",
       " 'NCBL0050',\n",
       " 'NCBL0055',\n",
       " 'NCBL0056',\n",
       " 'NCBL0060',\n",
       " 'NCBL0064',\n",
       " 'NCBL0068',\n",
       " 'NCBL0071',\n",
       " 'NCBL0072',\n",
       " 'NCBL0073',\n",
       " 'NCBL0081',\n",
       " 'NCBL0085',\n",
       " 'NCBL0089',\n",
       " 'NCBL0093',\n",
       " 'NCBL0101',\n",
       " 'NCBL0114',\n",
       " 'NCBL0117',\n",
       " 'NCBL0118',\n",
       " 'NCBL0119',\n",
       " 'NCBL0121',\n",
       " 'NCBL0122',\n",
       " 'NCBL0126',\n",
       " 'NCBL0127',\n",
       " 'NCBL0149',\n",
       " 'NCBL0150',\n",
       " 'NCBL0152',\n",
       " 'NCBL0153',\n",
       " 'NCBL0154',\n",
       " 'NCBL0155',\n",
       " 'NCBL0157'}"
      ]
     },
     "execution_count": 326,
     "metadata": {},
     "output_type": "execute_result"
    }
   ],
   "source": [
    "set(paper_id)"
   ]
  },
  {
   "cell_type": "code",
   "execution_count": 132,
   "metadata": {},
   "outputs": [],
   "source": [
    "cleaned_text = [t for t in ads if t not in stop_words and re.match(r'[a-zA-Z\\-][a-zA-Z\\-]{3,}', t)]"
   ]
  },
  {
   "cell_type": "code",
   "execution_count": 82,
   "metadata": {},
   "outputs": [],
   "source": [
    "text_string = \"\"\n",
    "new_pattern = '[A-Za-z]+'\n",
    "for line in cleaned_text:\n",
    "    for item in re.finditer(new_pattern, line):\n",
    "        text_string+=(item.group()+\" \")"
   ]
  },
  {
   "cell_type": "code",
   "execution_count": 83,
   "metadata": {},
   "outputs": [],
   "source": [
    "final_text = word_tokenize(str(text_string).lower())"
   ]
  },
  {
   "cell_type": "code",
   "execution_count": 84,
   "metadata": {},
   "outputs": [],
   "source": [
    "word = 'NOTICES'\n",
    "if word in final_text: \n",
    "    print ('success')"
   ]
  },
  {
   "cell_type": "code",
   "execution_count": 352,
   "metadata": {},
   "outputs": [
    {
     "data": {
      "text/plain": [
       "105"
      ]
     },
     "execution_count": 352,
     "metadata": {},
     "output_type": "execute_result"
    }
   ],
   "source": [
    "string = final_text\n",
    "substring = \"pills\"\n",
    "count = string.count(substring)\n",
    "count"
   ]
  },
  {
   "cell_type": "code",
   "execution_count": 301,
   "metadata": {},
   "outputs": [
    {
     "data": {
      "text/plain": [
       "296769"
      ]
     },
     "execution_count": 301,
     "metadata": {},
     "output_type": "execute_result"
    }
   ],
   "source": [
    "len(text_string.split(' '))"
   ]
  },
  {
   "cell_type": "code",
   "execution_count": 302,
   "metadata": {},
   "outputs": [
    {
     "data": {
      "text/plain": [
       "0.038979812581502786"
      ]
     },
     "execution_count": 302,
     "metadata": {},
     "output_type": "execute_result"
    }
   ],
   "source": [
    "count/len(text_string.split(' '))"
   ]
  },
  {
   "cell_type": "code",
   "execution_count": 295,
   "metadata": {},
   "outputs": [
    {
     "data": {
      "text/plain": [
       "5"
      ]
     },
     "execution_count": 295,
     "metadata": {},
     "output_type": "execute_result"
    }
   ],
   "source": [
    "len('pills')"
   ]
  },
  {
   "cell_type": "code",
   "execution_count": null,
   "metadata": {},
   "outputs": [],
   "source": []
  }
 ],
 "metadata": {
  "kernelspec": {
   "display_name": "Python 3",
   "language": "python",
   "name": "python3"
  },
  "language_info": {
   "codemirror_mode": {
    "name": "ipython",
    "version": 3
   },
   "file_extension": ".py",
   "mimetype": "text/x-python",
   "name": "python",
   "nbconvert_exporter": "python",
   "pygments_lexer": "ipython3",
   "version": "3.6.8"
  }
 },
 "nbformat": 4,
 "nbformat_minor": 2
}
